{
 "cells": [
  {
   "cell_type": "markdown",
   "metadata": {},
   "source": [
    "# 1. Perkenalan\n",
    "\n",
    "\n",
    "| # | Details |\n",
    "| --- | --- |\n",
    "| Name | Marwan Musa |\n",
    "| Dataset | Telco Customer Churn on [kaggle.com](https://www.kaggle.com/datasets/blastchar/telco-customer-churn) |\n",
    "| Objective | \"Predict behavior to retain customers. You can analyze all relevant customer data and develop focused customer retention programs.\" |"
   ]
  },
  {
   "cell_type": "markdown",
   "metadata": {},
   "source": [
    "---\n",
    "\n",
    "\n",
    "Penjelasan tiap-tiap fitur di dataset :\n",
    "\n",
    "\n",
    "| Features | Explanation |\n",
    "| --- | --- |\n",
    "| Churn | Customers who left within the last month |\n",
    "| Services | Services that each customer has signed up for – phone, multiple lines, internet, online security, online backup, device protection, tech support, and streaming TV and movies | \n",
    "| Customer account information | how long they’ve been a customer, contract, payment method, paperless billing, monthly charges, and total charges |\n",
    "| Demographic info | Demographic info about customers – gender, age range, and if they have partners and dependents |\n",
    "\n",
    "\n",
    "\n",
    "\n",
    "\n",
    "Pustaka : [Kaggle](https://www.kaggle.com/datasets/blastchar/telco-customer-churn)\n",
    "\n",
    "New version from IBM: <br>\n",
    "https://community.ibm.com/community/user/businessanalytics/blogs/steven-macko/2019/07/11/telco-customer-churn-1113"
   ]
  },
  {
   "cell_type": "markdown",
   "metadata": {},
   "source": [
    "# 2. Import Libraries"
   ]
  },
  {
   "cell_type": "code",
   "execution_count": 154,
   "metadata": {},
   "outputs": [],
   "source": [
    "import pandas as pd\n",
    "import numpy as np\n",
    "import seaborn as sns\n",
    "import matplotlib.pyplot as plt\n",
    "from matplotlib.pyplot import savefig as save_fig\n",
    "import pathlib\n",
    "\n",
    "import warnings\n",
    "warnings.filterwarnings(\"ignore\")\n",
    "\n",
    "# For Model\n",
    "import tensorflow as tf \n",
    "from tensorflow import keras\n",
    "from sklearn.pipeline import Pipeline\n",
    "\n",
    "# Split Dataset and Standarize the Datasets\n",
    "from sklearn.model_selection import train_test_split\n",
    "from sklearn.preprocessing import StandardScaler\n",
    "from sklearn.preprocessing import MinMaxScaler\n",
    "from sklearn.preprocessing import OneHotEncoder\n",
    "from sklearn.preprocessing import LabelEncoder\n",
    "from sklearn.compose import ColumnTransformer\n",
    "from imblearn.over_sampling import SMOTE \n",
    "from collections import Counter\n",
    "\n",
    "# Evaluate Regression Models\n",
    "from sklearn.metrics import accuracy_score, classification_report\n",
    "\n",
    "# to make this notebook's output stable across runs\n",
    "np.random.seed(42)\n",
    "tf.random.set_seed(42)"
   ]
  },
  {
   "cell_type": "code",
   "execution_count": 155,
   "metadata": {},
   "outputs": [
    {
     "data": {
      "text/plain": [
       "'2.9.1'"
      ]
     },
     "execution_count": 155,
     "metadata": {},
     "output_type": "execute_result"
    }
   ],
   "source": [
    "# Checking Tensorflow version\n",
    "tf.__version__"
   ]
  },
  {
   "cell_type": "code",
   "execution_count": 156,
   "metadata": {},
   "outputs": [
    {
     "data": {
      "text/plain": [
       "'2.9.0'"
      ]
     },
     "execution_count": 156,
     "metadata": {},
     "output_type": "execute_result"
    }
   ],
   "source": [
    "# Checking Keras version\n",
    "keras.__version__"
   ]
  },
  {
   "cell_type": "markdown",
   "metadata": {},
   "source": [
    "# 3. Data Loading"
   ]
  },
  {
   "cell_type": "code",
   "execution_count": 157,
   "metadata": {},
   "outputs": [
    {
     "data": {
      "text/html": [
       "<div>\n",
       "<style scoped>\n",
       "    .dataframe tbody tr th:only-of-type {\n",
       "        vertical-align: middle;\n",
       "    }\n",
       "\n",
       "    .dataframe tbody tr th {\n",
       "        vertical-align: top;\n",
       "    }\n",
       "\n",
       "    .dataframe thead th {\n",
       "        text-align: right;\n",
       "    }\n",
       "</style>\n",
       "<table border=\"1\" class=\"dataframe\">\n",
       "  <thead>\n",
       "    <tr style=\"text-align: right;\">\n",
       "      <th></th>\n",
       "      <th>customerID</th>\n",
       "      <th>gender</th>\n",
       "      <th>SeniorCitizen</th>\n",
       "      <th>Partner</th>\n",
       "      <th>Dependents</th>\n",
       "      <th>tenure</th>\n",
       "      <th>PhoneService</th>\n",
       "      <th>MultipleLines</th>\n",
       "      <th>InternetService</th>\n",
       "      <th>OnlineSecurity</th>\n",
       "      <th>...</th>\n",
       "      <th>DeviceProtection</th>\n",
       "      <th>TechSupport</th>\n",
       "      <th>StreamingTV</th>\n",
       "      <th>StreamingMovies</th>\n",
       "      <th>Contract</th>\n",
       "      <th>PaperlessBilling</th>\n",
       "      <th>PaymentMethod</th>\n",
       "      <th>MonthlyCharges</th>\n",
       "      <th>TotalCharges</th>\n",
       "      <th>Churn</th>\n",
       "    </tr>\n",
       "  </thead>\n",
       "  <tbody>\n",
       "    <tr>\n",
       "      <th>0</th>\n",
       "      <td>7590-VHVEG</td>\n",
       "      <td>Female</td>\n",
       "      <td>0</td>\n",
       "      <td>Yes</td>\n",
       "      <td>No</td>\n",
       "      <td>1</td>\n",
       "      <td>No</td>\n",
       "      <td>No phone service</td>\n",
       "      <td>DSL</td>\n",
       "      <td>No</td>\n",
       "      <td>...</td>\n",
       "      <td>No</td>\n",
       "      <td>No</td>\n",
       "      <td>No</td>\n",
       "      <td>No</td>\n",
       "      <td>Month-to-month</td>\n",
       "      <td>Yes</td>\n",
       "      <td>Electronic check</td>\n",
       "      <td>29.85</td>\n",
       "      <td>29.85</td>\n",
       "      <td>No</td>\n",
       "    </tr>\n",
       "    <tr>\n",
       "      <th>1</th>\n",
       "      <td>5575-GNVDE</td>\n",
       "      <td>Male</td>\n",
       "      <td>0</td>\n",
       "      <td>No</td>\n",
       "      <td>No</td>\n",
       "      <td>34</td>\n",
       "      <td>Yes</td>\n",
       "      <td>No</td>\n",
       "      <td>DSL</td>\n",
       "      <td>Yes</td>\n",
       "      <td>...</td>\n",
       "      <td>Yes</td>\n",
       "      <td>No</td>\n",
       "      <td>No</td>\n",
       "      <td>No</td>\n",
       "      <td>One year</td>\n",
       "      <td>No</td>\n",
       "      <td>Mailed check</td>\n",
       "      <td>56.95</td>\n",
       "      <td>1889.5</td>\n",
       "      <td>No</td>\n",
       "    </tr>\n",
       "    <tr>\n",
       "      <th>2</th>\n",
       "      <td>3668-QPYBK</td>\n",
       "      <td>Male</td>\n",
       "      <td>0</td>\n",
       "      <td>No</td>\n",
       "      <td>No</td>\n",
       "      <td>2</td>\n",
       "      <td>Yes</td>\n",
       "      <td>No</td>\n",
       "      <td>DSL</td>\n",
       "      <td>Yes</td>\n",
       "      <td>...</td>\n",
       "      <td>No</td>\n",
       "      <td>No</td>\n",
       "      <td>No</td>\n",
       "      <td>No</td>\n",
       "      <td>Month-to-month</td>\n",
       "      <td>Yes</td>\n",
       "      <td>Mailed check</td>\n",
       "      <td>53.85</td>\n",
       "      <td>108.15</td>\n",
       "      <td>Yes</td>\n",
       "    </tr>\n",
       "    <tr>\n",
       "      <th>3</th>\n",
       "      <td>7795-CFOCW</td>\n",
       "      <td>Male</td>\n",
       "      <td>0</td>\n",
       "      <td>No</td>\n",
       "      <td>No</td>\n",
       "      <td>45</td>\n",
       "      <td>No</td>\n",
       "      <td>No phone service</td>\n",
       "      <td>DSL</td>\n",
       "      <td>Yes</td>\n",
       "      <td>...</td>\n",
       "      <td>Yes</td>\n",
       "      <td>Yes</td>\n",
       "      <td>No</td>\n",
       "      <td>No</td>\n",
       "      <td>One year</td>\n",
       "      <td>No</td>\n",
       "      <td>Bank transfer (automatic)</td>\n",
       "      <td>42.30</td>\n",
       "      <td>1840.75</td>\n",
       "      <td>No</td>\n",
       "    </tr>\n",
       "    <tr>\n",
       "      <th>4</th>\n",
       "      <td>9237-HQITU</td>\n",
       "      <td>Female</td>\n",
       "      <td>0</td>\n",
       "      <td>No</td>\n",
       "      <td>No</td>\n",
       "      <td>2</td>\n",
       "      <td>Yes</td>\n",
       "      <td>No</td>\n",
       "      <td>Fiber optic</td>\n",
       "      <td>No</td>\n",
       "      <td>...</td>\n",
       "      <td>No</td>\n",
       "      <td>No</td>\n",
       "      <td>No</td>\n",
       "      <td>No</td>\n",
       "      <td>Month-to-month</td>\n",
       "      <td>Yes</td>\n",
       "      <td>Electronic check</td>\n",
       "      <td>70.70</td>\n",
       "      <td>151.65</td>\n",
       "      <td>Yes</td>\n",
       "    </tr>\n",
       "  </tbody>\n",
       "</table>\n",
       "<p>5 rows × 21 columns</p>\n",
       "</div>"
      ],
      "text/plain": [
       "   customerID  gender  SeniorCitizen Partner Dependents  tenure PhoneService  \\\n",
       "0  7590-VHVEG  Female              0     Yes         No       1           No   \n",
       "1  5575-GNVDE    Male              0      No         No      34          Yes   \n",
       "2  3668-QPYBK    Male              0      No         No       2          Yes   \n",
       "3  7795-CFOCW    Male              0      No         No      45           No   \n",
       "4  9237-HQITU  Female              0      No         No       2          Yes   \n",
       "\n",
       "      MultipleLines InternetService OnlineSecurity  ... DeviceProtection  \\\n",
       "0  No phone service             DSL             No  ...               No   \n",
       "1                No             DSL            Yes  ...              Yes   \n",
       "2                No             DSL            Yes  ...               No   \n",
       "3  No phone service             DSL            Yes  ...              Yes   \n",
       "4                No     Fiber optic             No  ...               No   \n",
       "\n",
       "  TechSupport StreamingTV StreamingMovies        Contract PaperlessBilling  \\\n",
       "0          No          No              No  Month-to-month              Yes   \n",
       "1          No          No              No        One year               No   \n",
       "2          No          No              No  Month-to-month              Yes   \n",
       "3         Yes          No              No        One year               No   \n",
       "4          No          No              No  Month-to-month              Yes   \n",
       "\n",
       "               PaymentMethod MonthlyCharges  TotalCharges Churn  \n",
       "0           Electronic check          29.85         29.85    No  \n",
       "1               Mailed check          56.95        1889.5    No  \n",
       "2               Mailed check          53.85        108.15   Yes  \n",
       "3  Bank transfer (automatic)          42.30       1840.75    No  \n",
       "4           Electronic check          70.70        151.65   Yes  \n",
       "\n",
       "[5 rows x 21 columns]"
      ]
     },
     "execution_count": 157,
     "metadata": {},
     "output_type": "execute_result"
    }
   ],
   "source": [
    "# Data Loading & Data Head\n",
    "data = pd.read_csv('WA_Fn-UseC_-Telco-Customer-Churn.csv')\n",
    "data.head()"
   ]
  },
  {
   "cell_type": "code",
   "execution_count": 158,
   "metadata": {},
   "outputs": [
    {
     "data": {
      "text/html": [
       "<div>\n",
       "<style scoped>\n",
       "    .dataframe tbody tr th:only-of-type {\n",
       "        vertical-align: middle;\n",
       "    }\n",
       "\n",
       "    .dataframe tbody tr th {\n",
       "        vertical-align: top;\n",
       "    }\n",
       "\n",
       "    .dataframe thead th {\n",
       "        text-align: right;\n",
       "    }\n",
       "</style>\n",
       "<table border=\"1\" class=\"dataframe\">\n",
       "  <thead>\n",
       "    <tr style=\"text-align: right;\">\n",
       "      <th></th>\n",
       "      <th>customerID</th>\n",
       "      <th>gender</th>\n",
       "      <th>SeniorCitizen</th>\n",
       "      <th>Partner</th>\n",
       "      <th>Dependents</th>\n",
       "      <th>tenure</th>\n",
       "      <th>PhoneService</th>\n",
       "      <th>MultipleLines</th>\n",
       "      <th>InternetService</th>\n",
       "      <th>OnlineSecurity</th>\n",
       "      <th>...</th>\n",
       "      <th>DeviceProtection</th>\n",
       "      <th>TechSupport</th>\n",
       "      <th>StreamingTV</th>\n",
       "      <th>StreamingMovies</th>\n",
       "      <th>Contract</th>\n",
       "      <th>PaperlessBilling</th>\n",
       "      <th>PaymentMethod</th>\n",
       "      <th>MonthlyCharges</th>\n",
       "      <th>TotalCharges</th>\n",
       "      <th>Churn</th>\n",
       "    </tr>\n",
       "  </thead>\n",
       "  <tbody>\n",
       "    <tr>\n",
       "      <th>7038</th>\n",
       "      <td>6840-RESVB</td>\n",
       "      <td>Male</td>\n",
       "      <td>0</td>\n",
       "      <td>Yes</td>\n",
       "      <td>Yes</td>\n",
       "      <td>24</td>\n",
       "      <td>Yes</td>\n",
       "      <td>Yes</td>\n",
       "      <td>DSL</td>\n",
       "      <td>Yes</td>\n",
       "      <td>...</td>\n",
       "      <td>Yes</td>\n",
       "      <td>Yes</td>\n",
       "      <td>Yes</td>\n",
       "      <td>Yes</td>\n",
       "      <td>One year</td>\n",
       "      <td>Yes</td>\n",
       "      <td>Mailed check</td>\n",
       "      <td>84.80</td>\n",
       "      <td>1990.5</td>\n",
       "      <td>No</td>\n",
       "    </tr>\n",
       "    <tr>\n",
       "      <th>7039</th>\n",
       "      <td>2234-XADUH</td>\n",
       "      <td>Female</td>\n",
       "      <td>0</td>\n",
       "      <td>Yes</td>\n",
       "      <td>Yes</td>\n",
       "      <td>72</td>\n",
       "      <td>Yes</td>\n",
       "      <td>Yes</td>\n",
       "      <td>Fiber optic</td>\n",
       "      <td>No</td>\n",
       "      <td>...</td>\n",
       "      <td>Yes</td>\n",
       "      <td>No</td>\n",
       "      <td>Yes</td>\n",
       "      <td>Yes</td>\n",
       "      <td>One year</td>\n",
       "      <td>Yes</td>\n",
       "      <td>Credit card (automatic)</td>\n",
       "      <td>103.20</td>\n",
       "      <td>7362.9</td>\n",
       "      <td>No</td>\n",
       "    </tr>\n",
       "    <tr>\n",
       "      <th>7040</th>\n",
       "      <td>4801-JZAZL</td>\n",
       "      <td>Female</td>\n",
       "      <td>0</td>\n",
       "      <td>Yes</td>\n",
       "      <td>Yes</td>\n",
       "      <td>11</td>\n",
       "      <td>No</td>\n",
       "      <td>No phone service</td>\n",
       "      <td>DSL</td>\n",
       "      <td>Yes</td>\n",
       "      <td>...</td>\n",
       "      <td>No</td>\n",
       "      <td>No</td>\n",
       "      <td>No</td>\n",
       "      <td>No</td>\n",
       "      <td>Month-to-month</td>\n",
       "      <td>Yes</td>\n",
       "      <td>Electronic check</td>\n",
       "      <td>29.60</td>\n",
       "      <td>346.45</td>\n",
       "      <td>No</td>\n",
       "    </tr>\n",
       "    <tr>\n",
       "      <th>7041</th>\n",
       "      <td>8361-LTMKD</td>\n",
       "      <td>Male</td>\n",
       "      <td>1</td>\n",
       "      <td>Yes</td>\n",
       "      <td>No</td>\n",
       "      <td>4</td>\n",
       "      <td>Yes</td>\n",
       "      <td>Yes</td>\n",
       "      <td>Fiber optic</td>\n",
       "      <td>No</td>\n",
       "      <td>...</td>\n",
       "      <td>No</td>\n",
       "      <td>No</td>\n",
       "      <td>No</td>\n",
       "      <td>No</td>\n",
       "      <td>Month-to-month</td>\n",
       "      <td>Yes</td>\n",
       "      <td>Mailed check</td>\n",
       "      <td>74.40</td>\n",
       "      <td>306.6</td>\n",
       "      <td>Yes</td>\n",
       "    </tr>\n",
       "    <tr>\n",
       "      <th>7042</th>\n",
       "      <td>3186-AJIEK</td>\n",
       "      <td>Male</td>\n",
       "      <td>0</td>\n",
       "      <td>No</td>\n",
       "      <td>No</td>\n",
       "      <td>66</td>\n",
       "      <td>Yes</td>\n",
       "      <td>No</td>\n",
       "      <td>Fiber optic</td>\n",
       "      <td>Yes</td>\n",
       "      <td>...</td>\n",
       "      <td>Yes</td>\n",
       "      <td>Yes</td>\n",
       "      <td>Yes</td>\n",
       "      <td>Yes</td>\n",
       "      <td>Two year</td>\n",
       "      <td>Yes</td>\n",
       "      <td>Bank transfer (automatic)</td>\n",
       "      <td>105.65</td>\n",
       "      <td>6844.5</td>\n",
       "      <td>No</td>\n",
       "    </tr>\n",
       "  </tbody>\n",
       "</table>\n",
       "<p>5 rows × 21 columns</p>\n",
       "</div>"
      ],
      "text/plain": [
       "      customerID  gender  SeniorCitizen Partner Dependents  tenure  \\\n",
       "7038  6840-RESVB    Male              0     Yes        Yes      24   \n",
       "7039  2234-XADUH  Female              0     Yes        Yes      72   \n",
       "7040  4801-JZAZL  Female              0     Yes        Yes      11   \n",
       "7041  8361-LTMKD    Male              1     Yes         No       4   \n",
       "7042  3186-AJIEK    Male              0      No         No      66   \n",
       "\n",
       "     PhoneService     MultipleLines InternetService OnlineSecurity  ...  \\\n",
       "7038          Yes               Yes             DSL            Yes  ...   \n",
       "7039          Yes               Yes     Fiber optic             No  ...   \n",
       "7040           No  No phone service             DSL            Yes  ...   \n",
       "7041          Yes               Yes     Fiber optic             No  ...   \n",
       "7042          Yes                No     Fiber optic            Yes  ...   \n",
       "\n",
       "     DeviceProtection TechSupport StreamingTV StreamingMovies        Contract  \\\n",
       "7038              Yes         Yes         Yes             Yes        One year   \n",
       "7039              Yes          No         Yes             Yes        One year   \n",
       "7040               No          No          No              No  Month-to-month   \n",
       "7041               No          No          No              No  Month-to-month   \n",
       "7042              Yes         Yes         Yes             Yes        Two year   \n",
       "\n",
       "     PaperlessBilling              PaymentMethod MonthlyCharges  TotalCharges  \\\n",
       "7038              Yes               Mailed check          84.80        1990.5   \n",
       "7039              Yes    Credit card (automatic)         103.20        7362.9   \n",
       "7040              Yes           Electronic check          29.60        346.45   \n",
       "7041              Yes               Mailed check          74.40         306.6   \n",
       "7042              Yes  Bank transfer (automatic)         105.65        6844.5   \n",
       "\n",
       "     Churn  \n",
       "7038    No  \n",
       "7039    No  \n",
       "7040    No  \n",
       "7041   Yes  \n",
       "7042    No  \n",
       "\n",
       "[5 rows x 21 columns]"
      ]
     },
     "execution_count": 158,
     "metadata": {},
     "output_type": "execute_result"
    }
   ],
   "source": [
    "# Data Tail\n",
    "\n",
    "data.tail()"
   ]
  },
  {
   "cell_type": "code",
   "execution_count": 159,
   "metadata": {},
   "outputs": [],
   "source": [
    "# Copy data original\n",
    "\n",
    "data_copy = data.copy()"
   ]
  },
  {
   "cell_type": "markdown",
   "metadata": {},
   "source": [
    "# 4. Data Cleaning"
   ]
  },
  {
   "cell_type": "markdown",
   "metadata": {},
   "source": [
    "### Drop Unuseful Variable"
   ]
  },
  {
   "cell_type": "code",
   "execution_count": 160,
   "metadata": {},
   "outputs": [],
   "source": [
    "# We will not use customerID for analysis, so we will delete it\n",
    "data.drop('customerID', axis = 1, inplace = True)"
   ]
  },
  {
   "cell_type": "markdown",
   "metadata": {},
   "source": [
    "### Data Shape (Num of Rows and Columns) & Data Type"
   ]
  },
  {
   "cell_type": "code",
   "execution_count": 161,
   "metadata": {},
   "outputs": [
    {
     "name": "stdout",
     "output_type": "stream",
     "text": [
      "Data Shape :  (7043, 20)\n"
     ]
    }
   ],
   "source": [
    "# Shape Data\n",
    "print(\"Data Shape : \", data.shape)"
   ]
  },
  {
   "cell_type": "code",
   "execution_count": 162,
   "metadata": {},
   "outputs": [
    {
     "name": "stdout",
     "output_type": "stream",
     "text": [
      "<class 'pandas.core.frame.DataFrame'>\n",
      "RangeIndex: 7043 entries, 0 to 7042\n",
      "Data columns (total 20 columns):\n",
      " #   Column            Non-Null Count  Dtype  \n",
      "---  ------            --------------  -----  \n",
      " 0   gender            7043 non-null   object \n",
      " 1   SeniorCitizen     7043 non-null   int64  \n",
      " 2   Partner           7043 non-null   object \n",
      " 3   Dependents        7043 non-null   object \n",
      " 4   tenure            7043 non-null   int64  \n",
      " 5   PhoneService      7043 non-null   object \n",
      " 6   MultipleLines     7043 non-null   object \n",
      " 7   InternetService   7043 non-null   object \n",
      " 8   OnlineSecurity    7043 non-null   object \n",
      " 9   OnlineBackup      7043 non-null   object \n",
      " 10  DeviceProtection  7043 non-null   object \n",
      " 11  TechSupport       7043 non-null   object \n",
      " 12  StreamingTV       7043 non-null   object \n",
      " 13  StreamingMovies   7043 non-null   object \n",
      " 14  Contract          7043 non-null   object \n",
      " 15  PaperlessBilling  7043 non-null   object \n",
      " 16  PaymentMethod     7043 non-null   object \n",
      " 17  MonthlyCharges    7043 non-null   float64\n",
      " 18  TotalCharges      7043 non-null   object \n",
      " 19  Churn             7043 non-null   object \n",
      "dtypes: float64(1), int64(2), object(17)\n",
      "memory usage: 1.1+ MB\n"
     ]
    }
   ],
   "source": [
    "# Check Dataset columns type, missing values\n",
    "data.info()"
   ]
  },
  {
   "cell_type": "markdown",
   "metadata": {},
   "source": [
    "Dataset ini memiliki 7043 kolom dan 20 baris dengan varian tipe data float, integer dan object. Tidak terdapat missing values di setiap kolomnya. Namun, variabel `TotalCharges` sepertinya bertipe data object padahal seharusnya bertipe float seperti `MonthlyCharges`."
   ]
  },
  {
   "cell_type": "code",
   "execution_count": 163,
   "metadata": {},
   "outputs": [
    {
     "data": {
      "text/plain": [
       "11"
      ]
     },
     "execution_count": 163,
     "metadata": {},
     "output_type": "execute_result"
    }
   ],
   "source": [
    "# Convert the type of MonthlyCharges variable to numeric\n",
    "data.TotalCharges = pd.to_numeric(data.TotalCharges, errors = 'coerce') # errors = coerce set invalid parsing as NaN\n",
    "data.TotalCharges.isnull().sum() # checking for null values after converting"
   ]
  },
  {
   "cell_type": "markdown",
   "metadata": {},
   "source": [
    "Pengubahan type variabel `TotalCharges` menghasilkan NaN values yang selanjutnya akan dihilangkan karena jumlahnya yang sangat kecil."
   ]
  },
  {
   "cell_type": "code",
   "execution_count": 164,
   "metadata": {},
   "outputs": [],
   "source": [
    "# Drop tha missing values\n",
    "data.dropna(inplace = True)"
   ]
  },
  {
   "cell_type": "markdown",
   "metadata": {},
   "source": [
    "# 5. Exploratory Data Analysis"
   ]
  },
  {
   "cell_type": "markdown",
   "metadata": {},
   "source": [
    "### Cek Class Imbalance di Target Variable"
   ]
  },
  {
   "cell_type": "code",
   "execution_count": 165,
   "metadata": {},
   "outputs": [
    {
     "data": {
      "image/png": "[encoded data removed]",
      "text/plain": [
       "<Figure size 864x576 with 1 Axes>"
      ]
     },
     "metadata": {},
     "output_type": "display_data"
    }
   ],
   "source": [
    "from matplotlib import cm\n",
    "from matplotlib.colors import ListedColormap, LinearSegmentedColormap\n",
    "# Color Setting\n",
    "colors = ['coral', 'yellow']\n",
    "tcolor_dict = {\n",
    "    True : \"coral\",\n",
    "    False : \"y\"\n",
    "}\n",
    "mycmp = LinearSegmentedColormap.from_list(\"MyCmp\", ['#8EBAD9', '#FFFFFF', '#FFF56D'], N=100)\n",
    "# Plot a pie chart to check if we have class imbalance problem\n",
    "fig, ax = plt.subplots(figsize=(12,8))\n",
    "ax.pie(x = data[\"Churn\"].value_counts(), autopct=\"%1.1f%%\",\n",
    "        pctdistance=.75, startangle=24, textprops={\"fontsize\":13},\n",
    "        colors=colors, wedgeprops={'edgecolor':'#383838'});\n",
    "ax.set_title(\"Target Class Distribution\", fontdict={'fontsize':14})\n",
    "ax.legend(['No', 'Yes'], bbox_to_anchor=(.8, .77))\n",
    "\n",
    "centre_circle = plt.Circle((0,0),0.55,fc='white', ec='#383838')\n",
    "fig = plt.gcf()\n",
    "fig.gca().add_artist(centre_circle)\n",
    "\n",
    "plt.show()"
   ]
  },
  {
   "cell_type": "code",
   "execution_count": 166,
   "metadata": {},
   "outputs": [
    {
     "data": {
      "text/plain": [
       "Churn\n",
       "No     5163\n",
       "Yes    1869\n",
       "Name: Churn, dtype: int64"
      ]
     },
     "execution_count": 166,
     "metadata": {},
     "output_type": "execute_result"
    }
   ],
   "source": [
    "data['Churn'].groupby(data['Churn']).count()"
   ]
  },
  {
   "cell_type": "markdown",
   "metadata": {},
   "source": [
    "Terdapat imbalance data di variabel target, dengan rasio 7 banding 3. [/sourcecode-piechart](https://www.kaggle.com/code/junedism/spaceship-titanic-exploratory-data-analysis)"
   ]
  },
  {
   "cell_type": "markdown",
   "metadata": {},
   "source": [
    "### Checking Unvalid Value in Categorical Variable"
   ]
  },
  {
   "cell_type": "code",
   "execution_count": 167,
   "metadata": {},
   "outputs": [
    {
     "name": "stdout",
     "output_type": "stream",
     "text": [
      "Unique values of gender : ['Female' 'Male']\n",
      "---------------------------------------------------------------------------------------------------------\n",
      "Unique values of Partner : ['Yes' 'No']\n",
      "---------------------------------------------------------------------------------------------------------\n",
      "Unique values of Dependents : ['No' 'Yes']\n",
      "---------------------------------------------------------------------------------------------------------\n",
      "Unique values of PhoneService : ['No' 'Yes']\n",
      "---------------------------------------------------------------------------------------------------------\n",
      "Unique values of MultipleLines : ['No phone service' 'No' 'Yes']\n",
      "---------------------------------------------------------------------------------------------------------\n",
      "Unique values of InternetService : ['DSL' 'Fiber optic' 'No']\n",
      "---------------------------------------------------------------------------------------------------------\n",
      "Unique values of OnlineSecurity : ['No' 'Yes' 'No internet service']\n",
      "---------------------------------------------------------------------------------------------------------\n",
      "Unique values of OnlineBackup : ['Yes' 'No' 'No internet service']\n",
      "---------------------------------------------------------------------------------------------------------\n",
      "Unique values of DeviceProtection : ['No' 'Yes' 'No internet service']\n",
      "---------------------------------------------------------------------------------------------------------\n",
      "Unique values of TechSupport : ['No' 'Yes' 'No internet service']\n",
      "---------------------------------------------------------------------------------------------------------\n",
      "Unique values of StreamingTV : ['No' 'Yes' 'No internet service']\n",
      "---------------------------------------------------------------------------------------------------------\n",
      "Unique values of StreamingMovies : ['No' 'Yes' 'No internet service']\n",
      "---------------------------------------------------------------------------------------------------------\n",
      "Unique values of Contract : ['Month-to-month' 'One year' 'Two year']\n",
      "---------------------------------------------------------------------------------------------------------\n",
      "Unique values of PaperlessBilling : ['Yes' 'No']\n",
      "---------------------------------------------------------------------------------------------------------\n",
      "Unique values of PaymentMethod : ['Electronic check' 'Mailed check' 'Bank transfer (automatic)'\n",
      " 'Credit card (automatic)']\n",
      "---------------------------------------------------------------------------------------------------------\n",
      "Unique values of Churn : ['No' 'Yes']\n",
      "---------------------------------------------------------------------------------------------------------\n"
     ]
    }
   ],
   "source": [
    "# Values tiap kategorikal variabel\n",
    "for i in data.select_dtypes(include = 'object').columns :\n",
    "    print(f\"Unique values of {i} : {data[i].unique()}\")\n",
    "    print('---'*35)"
   ]
  },
  {
   "cell_type": "markdown",
   "metadata": {},
   "source": [
    "Tidak ada unvalid values untuk semua variabel kategori. (contoh unvalid values : \"`unknown`\")"
   ]
  },
  {
   "cell_type": "markdown",
   "metadata": {},
   "source": [
    "### Explore the Categorical Features"
   ]
  },
  {
   "cell_type": "code",
   "execution_count": 168,
   "metadata": {},
   "outputs": [
    {
     "name": "stdout",
     "output_type": "stream",
     "text": [
      "Fitur gender ini memiliki values kategori sebanyak 2\n",
      "Fitur Partner ini memiliki values kategori sebanyak 2\n",
      "Fitur Dependents ini memiliki values kategori sebanyak 2\n",
      "Fitur PhoneService ini memiliki values kategori sebanyak 2\n",
      "Fitur MultipleLines ini memiliki values kategori sebanyak 3\n",
      "Fitur InternetService ini memiliki values kategori sebanyak 3\n",
      "Fitur OnlineSecurity ini memiliki values kategori sebanyak 3\n",
      "Fitur OnlineBackup ini memiliki values kategori sebanyak 3\n",
      "Fitur DeviceProtection ini memiliki values kategori sebanyak 3\n",
      "Fitur TechSupport ini memiliki values kategori sebanyak 3\n",
      "Fitur StreamingTV ini memiliki values kategori sebanyak 3\n",
      "Fitur StreamingMovies ini memiliki values kategori sebanyak 3\n",
      "Fitur Contract ini memiliki values kategori sebanyak 3\n",
      "Fitur PaperlessBilling ini memiliki values kategori sebanyak 2\n",
      "Fitur PaymentMethod ini memiliki values kategori sebanyak 4\n",
      "Fitur Churn ini memiliki values kategori sebanyak 2\n"
     ]
    }
   ],
   "source": [
    "# Inisialisasi fitur kategorik\n",
    "categorical_features = [feature for feature in data.columns if ((data[feature].dtypes=='O') & (feature not in ['subscribe']))]\n",
    "\n",
    "# length each feature\n",
    "for feature in categorical_features:\n",
    "    print('Fitur {} ini memiliki values kategori sebanyak {}'.format(feature,len(data[feature].unique())))"
   ]
  },
  {
   "cell_type": "markdown",
   "metadata": {},
   "source": [
    "- Terdapat 16 fitur kategorik\n",
    "- Fitur `PaymentMethod` adalah fitur kategorik dengan varian value terbanyak."
   ]
  },
  {
   "cell_type": "markdown",
   "metadata": {},
   "source": [
    "### Categorical Features Distribution"
   ]
  },
  {
   "cell_type": "code",
   "execution_count": 169,
   "metadata": {},
   "outputs": [
    {
     "data": {
      "image/png": "[encoded data removed]",
      "text/plain": [
       "<Figure size 2160x5760 with 16 Axes>"
      ]
     },
     "metadata": {},
     "output_type": "display_data"
    }
   ],
   "source": [
    "#check count based on categorical features\n",
    "plt.figure(figsize = (30,80), facecolor = 'white')\n",
    "iter = 1\n",
    "for categorical_feature in categorical_features:\n",
    "    ax = plt.subplot(12, 3, iter)\n",
    "    sns.countplot(y = categorical_feature, data = data)\n",
    "    plt.xlabel(\"Counts\")\n",
    "    plt.ylabel(f\"{categorical_feature} type\")\n",
    "    plt.title(categorical_feature)\n",
    "    iter += 1\n",
    "plt.show()"
   ]
  },
  {
   "cell_type": "markdown",
   "metadata": {},
   "source": [
    "- Rasio tiap class di variabel `gender` dan `Partner` hampir memiliki proporsi yang sama.\n",
    "- Ada perbedaan jumlah yang signifikan untuk tiap class di variabel `PhoneService`, `Dependents`, `PhoneService`, dan `MultipleLines`\n",
    "- Banyak kontrak tipe `Month-to-month` daripada kontrak `One year` dan `Two year` \n",
    "- Lebih banyak `PaymentMethod` yang dilakukan melalui Electronic check\n",
    "- Sebagian besar customer berlangganan home phone services dan sangat kecil proporsinya yang tidak berlangganan maka bisa dipastikan variabel `PhoneService` ini tidak memberikan dampak yang signifikan di modelling nanti."
   ]
  },
  {
   "cell_type": "markdown",
   "metadata": {},
   "source": [
    "### Explore the Numerical Features"
   ]
  },
  {
   "cell_type": "code",
   "execution_count": 170,
   "metadata": {},
   "outputs": [
    {
     "name": "stdout",
     "output_type": "stream",
     "text": [
      "Number of numerical variables:  4\n"
     ]
    },
    {
     "data": {
      "text/html": [
       "<div>\n",
       "<style scoped>\n",
       "    .dataframe tbody tr th:only-of-type {\n",
       "        vertical-align: middle;\n",
       "    }\n",
       "\n",
       "    .dataframe tbody tr th {\n",
       "        vertical-align: top;\n",
       "    }\n",
       "\n",
       "    .dataframe thead th {\n",
       "        text-align: right;\n",
       "    }\n",
       "</style>\n",
       "<table border=\"1\" class=\"dataframe\">\n",
       "  <thead>\n",
       "    <tr style=\"text-align: right;\">\n",
       "      <th></th>\n",
       "      <th>SeniorCitizen</th>\n",
       "      <th>tenure</th>\n",
       "      <th>MonthlyCharges</th>\n",
       "      <th>TotalCharges</th>\n",
       "    </tr>\n",
       "  </thead>\n",
       "  <tbody>\n",
       "    <tr>\n",
       "      <th>0</th>\n",
       "      <td>0</td>\n",
       "      <td>1</td>\n",
       "      <td>29.85</td>\n",
       "      <td>29.85</td>\n",
       "    </tr>\n",
       "    <tr>\n",
       "      <th>1</th>\n",
       "      <td>0</td>\n",
       "      <td>34</td>\n",
       "      <td>56.95</td>\n",
       "      <td>1889.50</td>\n",
       "    </tr>\n",
       "    <tr>\n",
       "      <th>2</th>\n",
       "      <td>0</td>\n",
       "      <td>2</td>\n",
       "      <td>53.85</td>\n",
       "      <td>108.15</td>\n",
       "    </tr>\n",
       "    <tr>\n",
       "      <th>3</th>\n",
       "      <td>0</td>\n",
       "      <td>45</td>\n",
       "      <td>42.30</td>\n",
       "      <td>1840.75</td>\n",
       "    </tr>\n",
       "    <tr>\n",
       "      <th>4</th>\n",
       "      <td>0</td>\n",
       "      <td>2</td>\n",
       "      <td>70.70</td>\n",
       "      <td>151.65</td>\n",
       "    </tr>\n",
       "  </tbody>\n",
       "</table>\n",
       "</div>"
      ],
      "text/plain": [
       "   SeniorCitizen  tenure  MonthlyCharges  TotalCharges\n",
       "0              0       1           29.85         29.85\n",
       "1              0      34           56.95       1889.50\n",
       "2              0       2           53.85        108.15\n",
       "3              0      45           42.30       1840.75\n",
       "4              0       2           70.70        151.65"
      ]
     },
     "execution_count": 170,
     "metadata": {},
     "output_type": "execute_result"
    }
   ],
   "source": [
    "# list of numerical variables\n",
    "numerical_features = data.select_dtypes(exclude='object').columns\n",
    "print('Number of numerical variables: ', len(numerical_features))\n",
    "\n",
    "# visualise the numerical variables\n",
    "data[numerical_features].head()"
   ]
  },
  {
   "cell_type": "markdown",
   "metadata": {},
   "source": [
    "Dalam dataset yang digunakan terdapat 4 numerik fitur."
   ]
  },
  {
   "cell_type": "markdown",
   "metadata": {},
   "source": [
    "### Numerical Features Distribution and Anomaly"
   ]
  },
  {
   "cell_type": "code",
   "execution_count": 171,
   "metadata": {},
   "outputs": [
    {
     "data": {
      "image/png": "[encoded data removed]",
      "text/plain": [
       "<Figure size 1296x1152 with 4 Axes>"
      ]
     },
     "metadata": {
      "needs_background": "light"
     },
     "output_type": "display_data"
    }
   ],
   "source": [
    "# Visualizing data distribution with distplot \n",
    "x = plt.figure(figsize=(18, 16))\n",
    "\n",
    "for i, j in enumerate(numerical_features):\n",
    "    x.add_subplot(5, 2, i+1)\n",
    "    sns.distplot(data[j], bins=15)\n",
    "    x.tight_layout()\n",
    "\n",
    "plt.tight_layout()"
   ]
  },
  {
   "cell_type": "code",
   "execution_count": 172,
   "metadata": {},
   "outputs": [
    {
     "data": {
      "image/png": "[encoded data removed]",
      "text/plain": [
       "<Figure size 1296x1152 with 4 Axes>"
      ]
     },
     "metadata": {
      "needs_background": "light"
     },
     "output_type": "display_data"
    }
   ],
   "source": [
    "# Visualizing data distribution with boxplot // checking outliers\n",
    "x = plt.figure(figsize=(18, 16))\n",
    "for i, j in enumerate(numerical_features):\n",
    "    x.add_subplot(5, 2, i+1)\n",
    "    sns.boxplot(data[j])\n",
    "    x.tight_layout()\n",
    "plt.tight_layout()"
   ]
  },
  {
   "cell_type": "markdown",
   "metadata": {},
   "source": [
    "- Semua variabel numerikal kelihatannya terdistribusi skew (nilai skewness akan dihitung di preprocessing section)\n",
    "- Terdapat outliers di `SeniorCitizen`"
   ]
  },
  {
   "cell_type": "markdown",
   "metadata": {},
   "source": [
    "###  Relation between Numerical Features and Target Feature"
   ]
  },
  {
   "cell_type": "code",
   "execution_count": 173,
   "metadata": {},
   "outputs": [
    {
     "data": {
      "image/png": "[encoded data removed]",
      "text/plain": [
       "<Figure size 1440x4320 with 4 Axes>"
      ]
     },
     "metadata": {},
     "output_type": "display_data"
    }
   ],
   "source": [
    "#boxplot to show target distribution with respect numerical features\n",
    "plt.figure(figsize = (20,60), facecolor = 'white')\n",
    "plotnumber = 1\n",
    "for feature in numerical_features:\n",
    "    ax = plt.subplot(12, 3, plotnumber)\n",
    "    sns.boxplot(x = \"Churn\", y = data[feature], data = data)\n",
    "    plt.xlabel(feature)\n",
    "    plotnumber += 1\n",
    "plt.show()"
   ]
  },
  {
   "cell_type": "markdown",
   "metadata": {},
   "source": [
    "- Semakin besar `tenure` semakin besar kemungkinan customer **stay** (`churn` = `no`).\n",
    "- Semakin kecil `MonthlyCharges` semakin besar kemungkinan customer untuk **stay** (`churn` = `no`). "
   ]
  },
  {
   "cell_type": "markdown",
   "metadata": {},
   "source": [
    "### Correlation between Numerical Features"
   ]
  },
  {
   "cell_type": "code",
   "execution_count": 174,
   "metadata": {},
   "outputs": [
    {
     "data": {
      "image/png": "[encoded data removed]",
      "text/plain": [
       "<Figure size 864x720 with 2 Axes>"
      ]
     },
     "metadata": {
      "needs_background": "light"
     },
     "output_type": "display_data"
    }
   ],
   "source": [
    "# Checking for correlation by heatmap\n",
    "corr = data[numerical_features].corr() \n",
    "plt.figure(figsize=(12, 10))\n",
    "\n",
    "sns.heatmap(corr[(corr >= 0.5) | (corr <= -0.4)], \n",
    "            cmap='GnBu', vmax=1.0, vmin=-1.0, linewidths=0.1,\n",
    "            annot=True, annot_kws={\"size\": 8}, square=True);"
   ]
  },
  {
   "cell_type": "markdown",
   "metadata": {},
   "source": [
    "Variabel `TotalCharges` memiliki korelasi yang tinggi dengan variabel `tenure` dan `MonthlyCharges`"
   ]
  },
  {
   "cell_type": "markdown",
   "metadata": {},
   "source": [
    "# 6. Data Preprocessing"
   ]
  },
  {
   "cell_type": "markdown",
   "metadata": {},
   "source": [
    "### *Get Data for Model Inference*"
   ]
  },
  {
   "cell_type": "code",
   "execution_count": 175,
   "metadata": {},
   "outputs": [],
   "source": [
    "# Get Data for Model Inference\n",
    "\n",
    "data_inf = data.sample(20, random_state = 0)"
   ]
  },
  {
   "cell_type": "code",
   "execution_count": 176,
   "metadata": {},
   "outputs": [],
   "source": [
    "# Remove Inference-Set from Dataset\n",
    "\n",
    "data_train_test = data.drop(data_inf.index)"
   ]
  },
  {
   "cell_type": "code",
   "execution_count": 177,
   "metadata": {},
   "outputs": [],
   "source": [
    "# Reset Index\n",
    "\n",
    "data_train_test.reset_index(drop = True, inplace = True)\n",
    "data_inf.reset_index(drop = True, inplace = True)"
   ]
  },
  {
   "cell_type": "markdown",
   "metadata": {},
   "source": [
    "### *Splitting Dataset*"
   ]
  },
  {
   "cell_type": "code",
   "execution_count": 178,
   "metadata": {},
   "outputs": [],
   "source": [
    "# Split between `X` (Features) and `y` (Target)\n",
    "\n",
    "X = data_train_test.drop('Churn', axis = 1)\n",
    "y = data_train_test['Churn']"
   ]
  },
  {
   "cell_type": "code",
   "execution_count": 179,
   "metadata": {},
   "outputs": [
    {
     "name": "stdout",
     "output_type": "stream",
     "text": [
      "Train Size :  (5609, 19)\n",
      "Test Size :  (1403, 19)\n"
     ]
    }
   ],
   "source": [
    "# Split between Train-Set and Test-Set\n",
    "X_train, X_test, y_train, y_test = train_test_split(X, y, test_size=0.2, random_state =  0)\n",
    "\n",
    "print('Train Size : ', X_train.shape)\n",
    "print('Test Size : ', X_test.shape)"
   ]
  },
  {
   "cell_type": "markdown",
   "metadata": {},
   "source": [
    "### *Feature Selection*"
   ]
  },
  {
   "cell_type": "markdown",
   "metadata": {},
   "source": [
    "Summary berdasarkan eksplorasi data di EDA section untuk pertimbangan pemilihan fitur:\n",
    "\n",
    "- Variabel `TotalCharges` memiliki korelasi yang tinggi dengan variabel `tenure` dan `MonthlyCharges`\n",
    "- Sebagian besar customer *subscribes* to home phone services dan sangat kecil proporsinya yang *not subscribes* maka bisa dipastikan variabel ini tidak memberikan dampak yang signifikan di modelling nanti.\n",
    "\n",
    "Berdasarkan summary di atas, kita akan drop variabels `PhoneService`(untuk fitur kategorik) dan `TotalCharges` untuk fitur numerik."
   ]
  },
  {
   "cell_type": "code",
   "execution_count": 180,
   "metadata": {},
   "outputs": [],
   "source": [
    "# Choosing columns for modeling\n",
    "\n",
    "X_train = X_train[['gender', 'SeniorCitizen', 'Partner', 'Dependents', 'tenure',\n",
    "       'MultipleLines', 'InternetService', 'OnlineSecurity', 'OnlineBackup', \n",
    "       'DeviceProtection', 'TechSupport', 'StreamingTV', 'StreamingMovies', \n",
    "       'Contract', 'PaperlessBilling', 'PaymentMethod', 'MonthlyCharges']]\n",
    "X_test = X_test[['gender', 'SeniorCitizen', 'Partner', 'Dependents', 'tenure',\n",
    "       'MultipleLines', 'InternetService', 'OnlineSecurity', 'OnlineBackup', \n",
    "       'DeviceProtection', 'TechSupport', 'StreamingTV', 'StreamingMovies', \n",
    "       'Contract', 'PaperlessBilling', 'PaymentMethod', 'MonthlyCharges']]"
   ]
  },
  {
   "cell_type": "markdown",
   "metadata": {},
   "source": [
    "### *Handling Missing Values*"
   ]
  },
  {
   "cell_type": "code",
   "execution_count": 181,
   "metadata": {},
   "outputs": [
    {
     "data": {
      "text/plain": [
       "gender              0\n",
       "SeniorCitizen       0\n",
       "Partner             0\n",
       "Dependents          0\n",
       "tenure              0\n",
       "MultipleLines       0\n",
       "InternetService     0\n",
       "OnlineSecurity      0\n",
       "OnlineBackup        0\n",
       "DeviceProtection    0\n",
       "TechSupport         0\n",
       "StreamingTV         0\n",
       "StreamingMovies     0\n",
       "Contract            0\n",
       "PaperlessBilling    0\n",
       "PaymentMethod       0\n",
       "MonthlyCharges      0\n",
       "dtype: int64"
      ]
     },
     "execution_count": 181,
     "metadata": {},
     "output_type": "execute_result"
    }
   ],
   "source": [
    "# Check Missing Values on X_train\n",
    "\n",
    "X_train.isnull().sum()"
   ]
  },
  {
   "cell_type": "code",
   "execution_count": 182,
   "metadata": {},
   "outputs": [
    {
     "data": {
      "text/plain": [
       "gender              0\n",
       "SeniorCitizen       0\n",
       "Partner             0\n",
       "Dependents          0\n",
       "tenure              0\n",
       "MultipleLines       0\n",
       "InternetService     0\n",
       "OnlineSecurity      0\n",
       "OnlineBackup        0\n",
       "DeviceProtection    0\n",
       "TechSupport         0\n",
       "StreamingTV         0\n",
       "StreamingMovies     0\n",
       "Contract            0\n",
       "PaperlessBilling    0\n",
       "PaymentMethod       0\n",
       "MonthlyCharges      0\n",
       "dtype: int64"
      ]
     },
     "execution_count": 182,
     "metadata": {},
     "output_type": "execute_result"
    }
   ],
   "source": [
    "# Check Missing Values on X_test\n",
    "\n",
    "X_test.isnull().sum()"
   ]
  },
  {
   "cell_type": "code",
   "execution_count": 183,
   "metadata": {},
   "outputs": [
    {
     "data": {
      "text/plain": [
       "0"
      ]
     },
     "execution_count": 183,
     "metadata": {},
     "output_type": "execute_result"
    }
   ],
   "source": [
    "# Check Missing Values on y_train\n",
    "\n",
    "y_train.isnull().sum()"
   ]
  },
  {
   "cell_type": "code",
   "execution_count": 184,
   "metadata": {},
   "outputs": [
    {
     "data": {
      "text/plain": [
       "0"
      ]
     },
     "execution_count": 184,
     "metadata": {},
     "output_type": "execute_result"
    }
   ],
   "source": [
    "# Check Missing Values on y_test\n",
    "\n",
    "y_test.isnull().sum()"
   ]
  },
  {
   "cell_type": "markdown",
   "metadata": {},
   "source": [
    "### *Handling Outlier*"
   ]
  },
  {
   "cell_type": "code",
   "execution_count": 185,
   "metadata": {},
   "outputs": [
    {
     "data": {
      "image/png": "[encoded data removed]",
      "text/plain": [
       "<Figure size 1296x1152 with 3 Axes>"
      ]
     },
     "metadata": {
      "needs_background": "light"
     },
     "output_type": "display_data"
    }
   ],
   "source": [
    "# Boxploting every feature on X_train to see outlier (Before Handling)\n",
    "\n",
    "x = plt.figure(figsize=(18, 16))\n",
    "for i, j in enumerate(X_train.select_dtypes(exclude='object').columns):\n",
    "    x.add_subplot(5, 2, i+1)\n",
    "    sns.boxplot(X_train[j])\n",
    "    x.tight_layout()\n",
    "plt.tight_layout()"
   ]
  },
  {
   "cell_type": "markdown",
   "metadata": {},
   "source": [
    "Tidak dilakukan *handling outliers* di variabel `SeniorCitizen` (*Indicates if the customer is 65 or older*) karena variabel ini adalah kategorikal variabel dalam bentuk numerik."
   ]
  },
  {
   "cell_type": "markdown",
   "metadata": {},
   "source": [
    "### *Split between Numerical and Categorical Columns*"
   ]
  },
  {
   "cell_type": "code",
   "execution_count": 186,
   "metadata": {},
   "outputs": [],
   "source": [
    "# Splitting ordinal and nominal values\n",
    "num_cols = ['SeniorCitizen', 'tenure', 'MonthlyCharges']\n",
    "cat_cols = ['gender', 'Partner', 'Dependents', 'MultipleLines', 'InternetService', \n",
    "          'OnlineSecurity', 'OnlineBackup', 'DeviceProtection', 'TechSupport', \n",
    "          'StreamingTV', 'StreamingMovies', 'Contract', 'PaperlessBilling', \n",
    "          'PaymentMethod']"
   ]
  },
  {
   "cell_type": "markdown",
   "metadata": {},
   "source": [
    "### *Feature Scaling and Encoding*"
   ]
  },
  {
   "cell_type": "code",
   "execution_count": 187,
   "metadata": {},
   "outputs": [
    {
     "name": "stdout",
     "output_type": "stream",
     "text": [
      "Number of normal distribution data  2\n",
      "Number of nonnormal distribution data  1\n",
      "Columns with normal distribution on X_train :  ['tenure', 'MonthlyCharges']\n",
      "Columns with non - normal distribution on X_train :  ['SeniorCitizen']\n"
     ]
    }
   ],
   "source": [
    "# Check if the data have normal distribution for each numerical column on X_train\n",
    "# If skewness is between -0.5 and 0.5, the distribution is approximately symmetric\n",
    "\n",
    "normaldist_columns = []\n",
    "nonnormaldist_columns = []\n",
    "\n",
    "for i in X_train.select_dtypes(exclude='object').columns:\n",
    "    g = X_train[i].skew()\n",
    "    normaldist_columns.append(i) if g <= 0.5 and g >= -0.5 else nonnormaldist_columns.append(i)\n",
    "    \n",
    "print('Number of normal distribution data ',len(normaldist_columns))\n",
    "print('Number of nonnormal distribution data ',len(nonnormaldist_columns))\n",
    "print('Columns with normal distribution on X_train : ', normaldist_columns)\n",
    "print('Columns with non - normal distribution on X_train : ', nonnormaldist_columns)"
   ]
  },
  {
   "cell_type": "code",
   "execution_count": 188,
   "metadata": {},
   "outputs": [],
   "source": [
    "# Scale and encode\n",
    "scale_n_encode = ColumnTransformer([('standard', StandardScaler(), normaldist_columns), # Scaling features with normal distribution\n",
    "                                  ('minmax', MinMaxScaler(), nonnormaldist_columns), # Scaling features with nonnormal distribution\n",
    "                                  ('nominal', OneHotEncoder(), cat_cols)]) # We will assume that all cat features are nominal type\n",
    "\n",
    "X_train_sne = scale_n_encode.fit_transform(X_train)\n",
    "X_test_sne = scale_n_encode.transform(X_test)"
   ]
  },
  {
   "cell_type": "markdown",
   "metadata": {},
   "source": [
    "### *Target Encoding*"
   ]
  },
  {
   "cell_type": "code",
   "execution_count": 189,
   "metadata": {},
   "outputs": [],
   "source": [
    "# prepare target\n",
    "def prepare_targets(y_tr, y_te):\n",
    "\tle = LabelEncoder()\n",
    "\tle.fit(y_train)\n",
    "\ty_tr_enc = le.transform(y_tr)\n",
    "\ty_te_enc = le.transform(y_te)\n",
    "\treturn y_tr_enc, y_te_enc"
   ]
  },
  {
   "cell_type": "code",
   "execution_count": 190,
   "metadata": {},
   "outputs": [],
   "source": [
    "# Encode the target\n",
    "y_train_enc, y_test_enc = prepare_targets(y_train, y_test)"
   ]
  },
  {
   "cell_type": "markdown",
   "metadata": {},
   "source": [
    "### *Define Validation Set*"
   ]
  },
  {
   "cell_type": "code",
   "execution_count": 191,
   "metadata": {},
   "outputs": [],
   "source": [
    "X_trains, X_val = X_train_sne[:4500], X_train_sne[4500:]\n",
    "y_trains, y_val = y_train_enc[:4500], y_train_enc[4500:]"
   ]
  },
  {
   "cell_type": "markdown",
   "metadata": {},
   "source": [
    "# 7. Model Defining"
   ]
  },
  {
   "cell_type": "markdown",
   "metadata": {},
   "source": [
    "### *Input Pipeline*"
   ]
  },
  {
   "cell_type": "code",
   "execution_count": 192,
   "metadata": {},
   "outputs": [],
   "source": [
    "# Setting Autotune\n",
    "AUTOTUNE = tf.data.AUTOTUNE\n",
    "\n",
    "def preprocessing(data, label):\n",
    "    \n",
    "    \"\"\"function that takes the data and labels, \n",
    "    standarize the data and return the standarized\n",
    "    data and the labels\"\"\"\n",
    "    \n",
    "    mean = tf.reduce_mean(data, axis=0)\n",
    "    std = tf.math.reduce_std(data, axis=0)\n",
    "    \n",
    "    preprocessed_data = (data - mean) / std\n",
    "    \n",
    "    return preprocessed_data, label\n",
    "\n",
    "\n",
    "# Fungsi untuk membuat batches\n",
    "def get_batches(x, y, shuffle_buffer_size, batch_size, shuffle=False):\n",
    "    \n",
    "    #Building a pipeline from a data that exists in memory\n",
    "    data_ds = tf.data.Dataset.from_tensor_slices((x, y))\n",
    "    \n",
    "    #mapping the fuction we alredy made to the data\n",
    "    preprocessed_data = data_ds.map(preprocessing)\n",
    "    \n",
    "    \n",
    "    if shuffle:\n",
    "        # if we want to shuffle the dataset given a buffer size\n",
    "        shuffled_data = preprocessed_data.shuffle(shuffle_buffer_size)\n",
    "        \n",
    "        # prefetch` lets the dataset fetch batches in the background while the model is training.\n",
    "        data_batches = shuffled_data.batch(batch_size).cache().prefetch(AUTOTUNE) #berapa banyak batch yg ingin di prefetch\n",
    "        \n",
    "    else: \n",
    "                \n",
    "        data_batches = preprocessed_data.batch(batch_size).cache().prefetch(AUTOTUNE)\n",
    "       \n",
    "       \n",
    "    return data_batches "
   ]
  },
  {
   "cell_type": "markdown",
   "metadata": {},
   "source": [
    "Dalam fungsi di atas sudah di inisialisasi `prefetch` (*autotune* mode), `shuffle`, dan `cache` untuk mempercepat waktu pemrosesan (parallel processing mode). Building `pipeline` ada dalam fungsi **get_batches**."
   ]
  },
  {
   "cell_type": "code",
   "execution_count": 193,
   "metadata": {},
   "outputs": [],
   "source": [
    "# Prepare the training and testing batches\n",
    "training_batches = get_batches(X_trains, y_trains, 1024, 64, shuffle = True)\n",
    "validation_batches = get_batches(X_val, y_val, 1024, 64, shuffle = False)\n",
    "testing_batches = get_batches(X_test_sne, y_test_enc, 256, 64, shuffle = False)"
   ]
  },
  {
   "cell_type": "markdown",
   "metadata": {},
   "source": [
    "Untuk data **train** dan **validation**, shuffle buffer size di set 1024, batch size 64. Seangkan untuk data **testing** shuffle buffer size di set 256, batch size 64."
   ]
  },
  {
   "cell_type": "markdown",
   "metadata": {},
   "source": [
    "### *Creating the Model using Squential API*"
   ]
  },
  {
   "cell_type": "code",
   "execution_count": 194,
   "metadata": {},
   "outputs": [],
   "source": [
    "# Define the model with Sequential API\n",
    "model_seq = keras.models.Sequential()\n",
    "model_seq.add(keras.Input(shape = X_trains.shape[1:]))\n",
    "model_seq.add(keras.layers.Dense(256, activation = \"relu\"))\n",
    "model_seq.add(keras.layers.Dense(128, activation = \"relu\"))\n",
    "model_seq.add(keras.layers.Dense(1, activation=\"sigmoid\"))\n",
    "\n",
    "# compiling\n",
    "model_seq.compile(optimizer = 'adam', loss = \"binary_crossentropy\", metrics=['acc'])"
   ]
  },
  {
   "cell_type": "markdown",
   "metadata": {},
   "source": [
    "Untuk base model sequential ini, digunakan 4 layer \n",
    "- 1 input layer, \n",
    "- 2 hidden layers(yang masing-masing memiliki 256 dan 128 neurons dengan fungsi activation \"`relu`\"), dan \n",
    "- 1 output(dengan fungsi activation \"`sigmoid`\").  \n",
    "\n",
    "Untuk output, digunakan \"`sigmoid`\" activation karena target variabelnya bersiat *binary* sehingga untuk compile pun fungsi loss yang digunakan adalah \"`binary_crossentropy`\" dengan optimizer \"`adam`\"."
   ]
  },
  {
   "cell_type": "markdown",
   "metadata": {},
   "source": [
    "Untuk activation di hidden layers, digunakan fungsi `relu` karena computationally efficient, tidak semua neuron diaktivasi saat processing jika output dari transformasi linier di suatu neuron bernilai lebih kecil dari 0, sehingga komputasinya lebih cepat. Namun, kekurangan `relu` ini jika dilakukan backpropagation process, gradient value neuron yang 0 tadi tidak akan mengupdate weight dan biasnya sehingga akan ada neuron yang tidak akan pernah teraktivasi (`dead neurons`).\n",
    "\n",
    "Untuk optimizer, digunakan `adam` karena merupakan  *most common use* optimizer, *convergence speed* yang cepat, merupakan gabungan dari algoritma `momentum` dan `RMSprop` optimizer, dan tidak perlu dilakukan *tuning learning rate* karena bersifat *adaptive to learning rate*."
   ]
  },
  {
   "cell_type": "markdown",
   "metadata": {},
   "source": [
    "### *Creating the Model using Functional API*"
   ]
  },
  {
   "cell_type": "code",
   "execution_count": 195,
   "metadata": {},
   "outputs": [],
   "source": [
    "# Define the model with Functional API\n",
    "input_ = keras.layers.Input(shape = X_trains.shape[1:])\n",
    "hidden1 = keras.layers.Dense(256, activation = \"relu\")(input_)\n",
    "hidden2 = keras.layers.Dense(128, activation = \"relu\")(hidden1)\n",
    "concat = keras.layers.concatenate([input_, hidden2])\n",
    "output = keras.layers.Dense(1, activation=\"sigmoid\")(concat)\n",
    "model_fun = keras.models.Model(inputs = [input_], outputs = [output])\n",
    "\n",
    "# compiling\n",
    "model_fun.compile(optimizer = 'adam', loss = \"binary_crossentropy\", metrics=['acc'])"
   ]
  },
  {
   "cell_type": "markdown",
   "metadata": {},
   "source": [
    "Sama seperti di sequential model sebelumnya, untuk model functional ini semua parameter yang digunakan sama, namun memiliki perbedaan di cara penulisannya dan ada tambahan layer `concat` setelah `hidden layer` terakhir."
   ]
  },
  {
   "cell_type": "markdown",
   "metadata": {},
   "source": [
    "# 8. Model Training"
   ]
  },
  {
   "cell_type": "markdown",
   "metadata": {},
   "source": [
    "### *Training Model Sequential API*"
   ]
  },
  {
   "cell_type": "code",
   "execution_count": 196,
   "metadata": {},
   "outputs": [
    {
     "name": "stdout",
     "output_type": "stream",
     "text": [
      "Epoch 1/40\n",
      "71/71 [==============================] - 3s 23ms/step - loss: 0.4524 - acc: 0.7780 - val_loss: 0.4169 - val_acc: 0.8007\n",
      "Epoch 2/40\n",
      "71/71 [==============================] - 1s 15ms/step - loss: 0.4156 - acc: 0.8011 - val_loss: 0.4160 - val_acc: 0.8016\n",
      "Epoch 3/40\n",
      "71/71 [==============================] - 1s 15ms/step - loss: 0.4073 - acc: 0.8082 - val_loss: 0.4163 - val_acc: 0.7962\n",
      "Epoch 4/40\n",
      "71/71 [==============================] - 1s 16ms/step - loss: 0.4007 - acc: 0.8122 - val_loss: 0.4172 - val_acc: 0.7971\n",
      "Epoch 5/40\n",
      "71/71 [==============================] - 1s 20ms/step - loss: 0.3947 - acc: 0.8142 - val_loss: 0.4181 - val_acc: 0.7899\n",
      "Epoch 6/40\n",
      "71/71 [==============================] - 1s 18ms/step - loss: 0.3887 - acc: 0.8176 - val_loss: 0.4198 - val_acc: 0.7917\n",
      "Epoch 7/40\n",
      "71/71 [==============================] - 1s 15ms/step - loss: 0.3827 - acc: 0.8196 - val_loss: 0.4222 - val_acc: 0.7899\n",
      "Epoch 8/40\n",
      "71/71 [==============================] - 1s 15ms/step - loss: 0.3767 - acc: 0.8218 - val_loss: 0.4243 - val_acc: 0.7935\n",
      "Epoch 9/40\n",
      "71/71 [==============================] - 1s 15ms/step - loss: 0.3700 - acc: 0.8253 - val_loss: 0.4270 - val_acc: 0.7917\n",
      "Epoch 10/40\n",
      "71/71 [==============================] - 1s 15ms/step - loss: 0.3632 - acc: 0.8282 - val_loss: 0.4305 - val_acc: 0.7944\n",
      "Epoch 11/40\n",
      "71/71 [==============================] - 1s 18ms/step - loss: 0.3561 - acc: 0.8329 - val_loss: 0.4346 - val_acc: 0.7890\n",
      "Epoch 12/40\n",
      "71/71 [==============================] - 1s 16ms/step - loss: 0.3487 - acc: 0.8369 - val_loss: 0.4388 - val_acc: 0.7890\n",
      "Epoch 13/40\n",
      "71/71 [==============================] - 1s 17ms/step - loss: 0.3413 - acc: 0.8444 - val_loss: 0.4415 - val_acc: 0.7881\n",
      "Epoch 14/40\n",
      "71/71 [==============================] - 1s 15ms/step - loss: 0.3330 - acc: 0.8476 - val_loss: 0.4469 - val_acc: 0.7827\n",
      "Epoch 15/40\n",
      "71/71 [==============================] - 1s 16ms/step - loss: 0.3239 - acc: 0.8516 - val_loss: 0.4534 - val_acc: 0.7854\n",
      "Epoch 16/40\n",
      "71/71 [==============================] - 1s 15ms/step - loss: 0.3159 - acc: 0.8569 - val_loss: 0.4582 - val_acc: 0.7755\n",
      "Epoch 17/40\n",
      "71/71 [==============================] - 1s 15ms/step - loss: 0.3064 - acc: 0.8616 - val_loss: 0.4649 - val_acc: 0.7701\n",
      "Epoch 18/40\n",
      "71/71 [==============================] - 1s 16ms/step - loss: 0.2973 - acc: 0.8664 - val_loss: 0.4712 - val_acc: 0.7665\n",
      "Epoch 19/40\n",
      "71/71 [==============================] - 1s 16ms/step - loss: 0.2877 - acc: 0.8744 - val_loss: 0.4783 - val_acc: 0.7610\n",
      "Epoch 20/40\n",
      "71/71 [==============================] - 1s 18ms/step - loss: 0.2785 - acc: 0.8778 - val_loss: 0.4843 - val_acc: 0.7583\n",
      "Epoch 21/40\n",
      "71/71 [==============================] - 1s 16ms/step - loss: 0.2695 - acc: 0.8831 - val_loss: 0.4898 - val_acc: 0.7565\n",
      "Epoch 22/40\n",
      "71/71 [==============================] - 1s 16ms/step - loss: 0.2607 - acc: 0.8898 - val_loss: 0.4959 - val_acc: 0.7619\n",
      "Epoch 23/40\n",
      "71/71 [==============================] - 1s 19ms/step - loss: 0.2517 - acc: 0.8958 - val_loss: 0.5031 - val_acc: 0.7601\n",
      "Epoch 24/40\n",
      "71/71 [==============================] - 1s 15ms/step - loss: 0.2434 - acc: 0.9027 - val_loss: 0.5103 - val_acc: 0.7601\n",
      "Epoch 25/40\n",
      "71/71 [==============================] - 1s 15ms/step - loss: 0.2355 - acc: 0.9069 - val_loss: 0.5161 - val_acc: 0.7628\n",
      "Epoch 26/40\n",
      "71/71 [==============================] - 1s 15ms/step - loss: 0.2277 - acc: 0.9109 - val_loss: 0.5222 - val_acc: 0.7638\n",
      "Epoch 27/40\n",
      "71/71 [==============================] - 1s 18ms/step - loss: 0.2193 - acc: 0.9129 - val_loss: 0.5271 - val_acc: 0.7592\n",
      "Epoch 28/40\n",
      "71/71 [==============================] - 1s 20ms/step - loss: 0.2127 - acc: 0.9191 - val_loss: 0.5379 - val_acc: 0.7565\n",
      "Epoch 29/40\n",
      "71/71 [==============================] - 2s 22ms/step - loss: 0.2060 - acc: 0.9187 - val_loss: 0.5457 - val_acc: 0.7565\n",
      "Epoch 30/40\n",
      "71/71 [==============================] - 2s 29ms/step - loss: 0.1992 - acc: 0.9256 - val_loss: 0.5530 - val_acc: 0.7583\n",
      "Epoch 31/40\n",
      "71/71 [==============================] - 1s 20ms/step - loss: 0.1931 - acc: 0.9264 - val_loss: 0.5626 - val_acc: 0.7610\n",
      "Epoch 32/40\n",
      "71/71 [==============================] - 3s 37ms/step - loss: 0.1870 - acc: 0.9293 - val_loss: 0.5728 - val_acc: 0.7574\n",
      "Epoch 33/40\n",
      "71/71 [==============================] - 1s 19ms/step - loss: 0.1817 - acc: 0.9309 - val_loss: 0.5833 - val_acc: 0.7565\n",
      "Epoch 34/40\n",
      "71/71 [==============================] - 1s 19ms/step - loss: 0.1774 - acc: 0.9311 - val_loss: 0.5940 - val_acc: 0.7601\n",
      "Epoch 35/40\n",
      "71/71 [==============================] - 1s 19ms/step - loss: 0.1722 - acc: 0.9338 - val_loss: 0.6043 - val_acc: 0.7565\n",
      "Epoch 36/40\n",
      "71/71 [==============================] - 2s 27ms/step - loss: 0.1678 - acc: 0.9347 - val_loss: 0.6163 - val_acc: 0.7529\n",
      "Epoch 37/40\n",
      "71/71 [==============================] - 2s 30ms/step - loss: 0.1638 - acc: 0.9369 - val_loss: 0.6285 - val_acc: 0.7556\n",
      "Epoch 38/40\n",
      "71/71 [==============================] - 2s 23ms/step - loss: 0.1602 - acc: 0.9358 - val_loss: 0.6387 - val_acc: 0.7556\n",
      "Epoch 39/40\n",
      "71/71 [==============================] - 2s 22ms/step - loss: 0.1565 - acc: 0.9367 - val_loss: 0.6543 - val_acc: 0.7583\n",
      "Epoch 40/40\n",
      "71/71 [==============================] - 1s 20ms/step - loss: 0.1534 - acc: 0.9382 - val_loss: 0.6696 - val_acc: 0.7610\n"
     ]
    }
   ],
   "source": [
    "# ClearSession\n",
    "keras.backend.clear_session()\n",
    "np.random.seed(42)\n",
    "tf.random.set_seed(42)\n",
    "\n",
    "# Compiling model with Seq-API\n",
    "history_seq = model_seq.fit(training_batches, epochs = 40, validation_data = validation_batches)"
   ]
  },
  {
   "cell_type": "code",
   "execution_count": 197,
   "metadata": {},
   "outputs": [
    {
     "name": "stdout",
     "output_type": "stream",
     "text": [
      "Model: \"sequential\"\n",
      "_________________________________________________________________\n",
      " Layer (type)                Output Shape              Param #   \n",
      "=================================================================\n",
      " dense (Dense)               (None, 256)               11008     \n",
      "                                                                 \n",
      " dense_1 (Dense)             (None, 128)               32896     \n",
      "                                                                 \n",
      " dense_2 (Dense)             (None, 1)                 129       \n",
      "                                                                 \n",
      "=================================================================\n",
      "Total params: 44,033\n",
      "Trainable params: 44,033\n",
      "Non-trainable params: 0\n",
      "_________________________________________________________________\n"
     ]
    }
   ],
   "source": [
    "# summary model\n",
    "model_seq.summary()"
   ]
  },
  {
   "cell_type": "markdown",
   "metadata": {},
   "source": [
    "Berdasarkan summary model ini, ada 44.033 parameter yang terbentuk dengan komposisi 110.008 di layer 1, 32.896 di layer 2, dan 129 di layer output."
   ]
  },
  {
   "cell_type": "code",
   "execution_count": 198,
   "metadata": {},
   "outputs": [
    {
     "data": {
      "image/png": "[encoded data removed]",
      "text/plain": [
       "<Figure size 1080x720 with 1 Axes>"
      ]
     },
     "metadata": {
      "needs_background": "light"
     },
     "output_type": "display_data"
    }
   ],
   "source": [
    "# Graph plot of train process model\n",
    "pd.DataFrame(history_seq.history).plot(figsize=(15, 10))\n",
    "plt.grid(True)\n",
    "plt.gca().set_ylim(0, 1)\n",
    "save_fig(\"keras-plot-seqmodel-base\")\n",
    "plt.show()"
   ]
  },
  {
   "cell_type": "markdown",
   "metadata": {},
   "source": [
    "Dari grafik terlihat bahwa pergerekan value `loss` - `val_loss` dan `acc` - `val_acc` cenderung divergen setiap *epoch* bertambah, dimana `loss` di training batches dan `acc` di validation batches semakin lama semakin menurun, sedangkan `acc` di training batches dan `loss` di validation batches semakin lama semakin meningkat."
   ]
  },
  {
   "cell_type": "markdown",
   "metadata": {},
   "source": [
    "---"
   ]
  },
  {
   "cell_type": "markdown",
   "metadata": {},
   "source": [
    "### *Training Model with Functional API*"
   ]
  },
  {
   "cell_type": "code",
   "execution_count": 199,
   "metadata": {},
   "outputs": [
    {
     "name": "stdout",
     "output_type": "stream",
     "text": [
      "Epoch 1/40\n",
      "71/71 [==============================] - 3s 25ms/step - loss: 0.4567 - acc: 0.7864 - val_loss: 0.4184 - val_acc: 0.8061\n",
      "Epoch 2/40\n",
      "71/71 [==============================] - 1s 21ms/step - loss: 0.4162 - acc: 0.8020 - val_loss: 0.4176 - val_acc: 0.8034\n",
      "Epoch 3/40\n",
      "71/71 [==============================] - 1s 18ms/step - loss: 0.4085 - acc: 0.8071 - val_loss: 0.4180 - val_acc: 0.8007\n",
      "Epoch 4/40\n",
      "71/71 [==============================] - 1s 21ms/step - loss: 0.4025 - acc: 0.8104 - val_loss: 0.4194 - val_acc: 0.7962\n",
      "Epoch 5/40\n",
      "71/71 [==============================] - 1s 16ms/step - loss: 0.3966 - acc: 0.8122 - val_loss: 0.4213 - val_acc: 0.7944\n",
      "Epoch 6/40\n",
      "71/71 [==============================] - 1s 19ms/step - loss: 0.3912 - acc: 0.8142 - val_loss: 0.4242 - val_acc: 0.7908\n",
      "Epoch 7/40\n",
      "71/71 [==============================] - 1s 17ms/step - loss: 0.3857 - acc: 0.8182 - val_loss: 0.4261 - val_acc: 0.7908\n",
      "Epoch 8/40\n",
      "71/71 [==============================] - 1s 17ms/step - loss: 0.3802 - acc: 0.8216 - val_loss: 0.4288 - val_acc: 0.7899\n",
      "Epoch 9/40\n",
      "71/71 [==============================] - 1s 18ms/step - loss: 0.3739 - acc: 0.8238 - val_loss: 0.4309 - val_acc: 0.7890\n",
      "Epoch 10/40\n",
      "71/71 [==============================] - 1s 21ms/step - loss: 0.3674 - acc: 0.8271 - val_loss: 0.4334 - val_acc: 0.7845\n",
      "Epoch 11/40\n",
      "71/71 [==============================] - 1s 16ms/step - loss: 0.3607 - acc: 0.8311 - val_loss: 0.4358 - val_acc: 0.7827\n",
      "Epoch 12/40\n",
      "71/71 [==============================] - 1s 18ms/step - loss: 0.3536 - acc: 0.8340 - val_loss: 0.4389 - val_acc: 0.7836\n",
      "Epoch 13/40\n",
      "71/71 [==============================] - 1s 18ms/step - loss: 0.3455 - acc: 0.8398 - val_loss: 0.4421 - val_acc: 0.7827\n",
      "Epoch 14/40\n",
      "71/71 [==============================] - 1s 20ms/step - loss: 0.3374 - acc: 0.8433 - val_loss: 0.4453 - val_acc: 0.7818\n",
      "Epoch 15/40\n",
      "71/71 [==============================] - 1s 16ms/step - loss: 0.3293 - acc: 0.8496 - val_loss: 0.4504 - val_acc: 0.7845\n",
      "Epoch 16/40\n",
      "71/71 [==============================] - 1s 18ms/step - loss: 0.3207 - acc: 0.8524 - val_loss: 0.4552 - val_acc: 0.7854\n",
      "Epoch 17/40\n",
      "71/71 [==============================] - 1s 19ms/step - loss: 0.3119 - acc: 0.8584 - val_loss: 0.4581 - val_acc: 0.7854\n",
      "Epoch 18/40\n",
      "71/71 [==============================] - 1s 19ms/step - loss: 0.3030 - acc: 0.8629 - val_loss: 0.4637 - val_acc: 0.7845\n",
      "Epoch 19/40\n",
      "71/71 [==============================] - 2s 29ms/step - loss: 0.2934 - acc: 0.8678 - val_loss: 0.4709 - val_acc: 0.7917\n",
      "Epoch 20/40\n",
      "71/71 [==============================] - 2s 29ms/step - loss: 0.2840 - acc: 0.8753 - val_loss: 0.4768 - val_acc: 0.7836\n",
      "Epoch 21/40\n",
      "71/71 [==============================] - 2s 25ms/step - loss: 0.2747 - acc: 0.8798 - val_loss: 0.4856 - val_acc: 0.7863\n",
      "Epoch 22/40\n",
      "71/71 [==============================] - 2s 24ms/step - loss: 0.2661 - acc: 0.8838 - val_loss: 0.4932 - val_acc: 0.7800\n",
      "Epoch 23/40\n",
      "71/71 [==============================] - 2s 23ms/step - loss: 0.2566 - acc: 0.8902 - val_loss: 0.5017 - val_acc: 0.7764\n",
      "Epoch 24/40\n",
      "71/71 [==============================] - 3s 36ms/step - loss: 0.2476 - acc: 0.8960 - val_loss: 0.5100 - val_acc: 0.7701\n",
      "Epoch 25/40\n",
      "71/71 [==============================] - 2s 25ms/step - loss: 0.2394 - acc: 0.9011 - val_loss: 0.5211 - val_acc: 0.7656\n",
      "Epoch 26/40\n",
      "71/71 [==============================] - 2s 27ms/step - loss: 0.2319 - acc: 0.9049 - val_loss: 0.5291 - val_acc: 0.7610\n",
      "Epoch 27/40\n",
      "71/71 [==============================] - 2s 25ms/step - loss: 0.2239 - acc: 0.9109 - val_loss: 0.5405 - val_acc: 0.7592\n",
      "Epoch 28/40\n",
      "71/71 [==============================] - 2s 28ms/step - loss: 0.2167 - acc: 0.9149 - val_loss: 0.5488 - val_acc: 0.7538\n",
      "Epoch 29/40\n",
      "71/71 [==============================] - 2s 31ms/step - loss: 0.2096 - acc: 0.9187 - val_loss: 0.5593 - val_acc: 0.7610\n",
      "Epoch 30/40\n",
      "71/71 [==============================] - 2s 25ms/step - loss: 0.2033 - acc: 0.9193 - val_loss: 0.5685 - val_acc: 0.7574\n",
      "Epoch 31/40\n",
      "71/71 [==============================] - 2s 26ms/step - loss: 0.1968 - acc: 0.9231 - val_loss: 0.5815 - val_acc: 0.7529\n",
      "Epoch 32/40\n",
      "71/71 [==============================] - 2s 28ms/step - loss: 0.1916 - acc: 0.9262 - val_loss: 0.5929 - val_acc: 0.7547\n",
      "Epoch 33/40\n",
      "71/71 [==============================] - 2s 29ms/step - loss: 0.1857 - acc: 0.9284 - val_loss: 0.6032 - val_acc: 0.7565\n",
      "Epoch 34/40\n",
      "71/71 [==============================] - 2s 22ms/step - loss: 0.1806 - acc: 0.9287 - val_loss: 0.6136 - val_acc: 0.7547\n",
      "Epoch 35/40\n",
      "71/71 [==============================] - 2s 23ms/step - loss: 0.1753 - acc: 0.9324 - val_loss: 0.6243 - val_acc: 0.7619\n",
      "Epoch 36/40\n",
      "71/71 [==============================] - 2s 23ms/step - loss: 0.1718 - acc: 0.9322 - val_loss: 0.6330 - val_acc: 0.7610\n",
      "Epoch 37/40\n",
      "71/71 [==============================] - 2s 25ms/step - loss: 0.1669 - acc: 0.9340 - val_loss: 0.6446 - val_acc: 0.7547\n",
      "Epoch 38/40\n",
      "71/71 [==============================] - 2s 32ms/step - loss: 0.1636 - acc: 0.9340 - val_loss: 0.6581 - val_acc: 0.7538\n",
      "Epoch 39/40\n",
      "71/71 [==============================] - 2s 25ms/step - loss: 0.1611 - acc: 0.9349 - val_loss: 0.6764 - val_acc: 0.7565\n",
      "Epoch 40/40\n",
      "71/71 [==============================] - 2s 27ms/step - loss: 0.1575 - acc: 0.9342 - val_loss: 0.6876 - val_acc: 0.7547\n"
     ]
    }
   ],
   "source": [
    "# ClearSession\n",
    "keras.backend.clear_session()\n",
    "np.random.seed(42)\n",
    "tf.random.set_seed(42)\n",
    "\n",
    "# Compiling model with Func-API\n",
    "history_fun = model_fun.fit(training_batches, epochs = 40, validation_data = validation_batches) "
   ]
  },
  {
   "cell_type": "code",
   "execution_count": 200,
   "metadata": {},
   "outputs": [
    {
     "name": "stdout",
     "output_type": "stream",
     "text": [
      "Model: \"model\"\n",
      "__________________________________________________________________________________________________\n",
      " Layer (type)                   Output Shape         Param #     Connected to                     \n",
      "==================================================================================================\n",
      " input_2 (InputLayer)           [(None, 42)]         0           []                               \n",
      "                                                                                                  \n",
      " dense_3 (Dense)                (None, 256)          11008       ['input_2[0][0]']                \n",
      "                                                                                                  \n",
      " dense_4 (Dense)                (None, 128)          32896       ['dense_3[0][0]']                \n",
      "                                                                                                  \n",
      " concatenate (Concatenate)      (None, 170)          0           ['input_2[0][0]',                \n",
      "                                                                  'dense_4[0][0]']                \n",
      "                                                                                                  \n",
      " dense_5 (Dense)                (None, 1)            171         ['concatenate[0][0]']            \n",
      "                                                                                                  \n",
      "==================================================================================================\n",
      "Total params: 44,075\n",
      "Trainable params: 44,075\n",
      "Non-trainable params: 0\n",
      "__________________________________________________________________________________________________\n"
     ]
    }
   ],
   "source": [
    "# Summary model\n",
    "\n",
    "model_fun.summary()"
   ]
  },
  {
   "cell_type": "markdown",
   "metadata": {},
   "source": [
    "Berdasarkan summary model ini, ada 44.075 parameter yang terbentuk dengan komposisi 110.008 di layer 1, 32.896 di layer 2, dan 171 di layer output."
   ]
  },
  {
   "cell_type": "code",
   "execution_count": 201,
   "metadata": {},
   "outputs": [
    {
     "data": {
      "image/png": "[encoded data removed]",
      "text/plain": [
       "<Figure size 1080x720 with 1 Axes>"
      ]
     },
     "metadata": {
      "needs_background": "light"
     },
     "output_type": "display_data"
    }
   ],
   "source": [
    "# Graph plot of train process model\n",
    "pd.DataFrame(history_fun.history).plot(figsize=(15, 10))\n",
    "plt.grid(True)\n",
    "plt.gca().set_ylim(0, 1)\n",
    "save_fig(\"keras-plot-funmodel-base\")\n",
    "plt.show()"
   ]
  },
  {
   "cell_type": "markdown",
   "metadata": {},
   "source": [
    "Dari grafik terlihat bahwa pergerekan value `loss` - `val_loss` dan `acc` - `val_acc` cenderung divergen setiap *epoch* bertambah, dimana `loss` di training batches dan `acc` di validation batches semakin lama semakin menurun, sedangkan `acc` di training batches dan `loss` di validation batches semakin lama semakin meningkat. (plot memiliki bentuk yang sama dengan seq-model karena parameter yang digunakan sama)"
   ]
  },
  {
   "cell_type": "markdown",
   "metadata": {},
   "source": [
    "# 9. Model Improvement"
   ]
  },
  {
   "cell_type": "markdown",
   "metadata": {},
   "source": [
    "---"
   ]
  },
  {
   "cell_type": "markdown",
   "metadata": {},
   "source": [
    "### *Improving Sequential Model*"
   ]
  },
  {
   "cell_type": "code",
   "execution_count": 202,
   "metadata": {},
   "outputs": [],
   "source": [
    "# Define the model with Sequential API\n",
    "model_seq_imp = keras.models.Sequential()\n",
    "model_seq_imp.add(keras.Input(shape=(42,)))\n",
    "model_seq_imp.add(keras.layers.BatchNormalization())\n",
    "model_seq_imp.add(keras.layers.Dense(256, activation = \"relu\", kernel_regularizer = tf.keras.regularizers.L1(), kernel_initializer = tf.keras.initializers.GlorotNormal()))\n",
    "model_seq_imp.add(keras.layers.BatchNormalization())\n",
    "model_seq_imp.add(keras.layers.Dense(128, activation = \"relu\", kernel_regularizer = tf.keras.regularizers.L1(), kernel_initializer = tf.keras.initializers.GlorotNormal()))\n",
    "model_seq_imp.add(keras.layers.Dense(1, activation=\"sigmoid\"))\n",
    "\n",
    "# compiling\n",
    "model_seq_imp.compile(optimizer = 'adam', loss = \"binary_crossentropy\", metrics=['acc'])"
   ]
  },
  {
   "cell_type": "markdown",
   "metadata": {},
   "source": [
    "Untuk model sequential yang telah di improve ini digunakan 6 layer \n",
    "- 1 input layer, \n",
    "- 2 hidden layers (yang masing-masing memiliki 256 dan 128 neurons dengan fungsi activation \"`relu`\", kernel_regularizer `L1`, dan kernel_initializer `GlorotNormal`), \n",
    "- 2 layer untuk normalisasi, (berdasarkan referensi yang diketahui, BatchNormalization layer ini optimalnya diinisialisasi sebelum layer activation). dan \n",
    "- 1 output(dengan fungsi activation \"`sigmoid`\").  Untuk output kita memakai activation \"`sigmoid`\" karena target variabelnya bersiat *binary* sehingga untuk compile pun fungsi loss yang digunakan adalah \"`binary_crossentropy`\" dengan optimizer \"`adam`\"."
   ]
  },
  {
   "cell_type": "markdown",
   "metadata": {},
   "source": [
    "Sedikit berbeda dari parameter yang digunakan di base model sequential, untuk improvement dilakukan penambahan layer `BatchNormalization`, setting `kernel initializers` serta `regulizer` di hidden layer. \n",
    "Kenapa digunakan `BatchNormalization`, `initializers` dan `regulizer`? \n",
    "- `BatchNormalization` digunakan karena untuk menormalisasikan setiap input ke suatu layer, membagi epochs, memberikan regularization, dan mengurangi error.\n",
    "- `kernel initializers` sebenarnya default initializers tf.Dense adalah `GlorotUniform`,  namun digunakan `GlorotNormal` karena stddev nya lebih kecil dari  `GlorotUniform`\n",
    "- `regulizer` L1 digunakan karena lebih robust dari L2,\n",
    "\n",
    "```python\n",
    "L1 regularization is more robust than L2 regularization for a fairly obvious reason. L2 regularization takes the square of the weights, so the cost of outliers present in the data increases exponentially. L1 regularization takes the absolute values of the weights, so the cost only increases linearly.\n",
    "```"
   ]
  },
  {
   "cell_type": "code",
   "execution_count": 203,
   "metadata": {},
   "outputs": [
    {
     "name": "stdout",
     "output_type": "stream",
     "text": [
      "Epoch 1/40\n",
      "71/71 [==============================] - 5s 31ms/step - loss: 16.8940 - acc: 0.7573 - val_loss: 8.4146 - val_acc: 0.7385\n",
      "Epoch 2/40\n",
      "71/71 [==============================] - 2s 27ms/step - loss: 4.2693 - acc: 0.7889 - val_loss: 1.7070 - val_acc: 0.7358\n",
      "Epoch 3/40\n",
      "71/71 [==============================] - 2s 24ms/step - loss: 0.9304 - acc: 0.7709 - val_loss: 0.7183 - val_acc: 0.7358\n",
      "Epoch 4/40\n",
      "71/71 [==============================] - 2s 31ms/step - loss: 0.5835 - acc: 0.7862 - val_loss: 0.6249 - val_acc: 0.7358\n",
      "Epoch 5/40\n",
      "71/71 [==============================] - 2s 23ms/step - loss: 0.5523 - acc: 0.7947 - val_loss: 0.5801 - val_acc: 0.7385\n",
      "Epoch 6/40\n",
      "71/71 [==============================] - 2s 24ms/step - loss: 0.5398 - acc: 0.7971 - val_loss: 0.5469 - val_acc: 0.7980\n",
      "Epoch 7/40\n",
      "71/71 [==============================] - 2s 27ms/step - loss: 0.5306 - acc: 0.7958 - val_loss: 0.5266 - val_acc: 0.8124\n",
      "Epoch 8/40\n",
      "71/71 [==============================] - 2s 24ms/step - loss: 0.5250 - acc: 0.7962 - val_loss: 0.5168 - val_acc: 0.8052\n",
      "Epoch 9/40\n",
      "71/71 [==============================] - 2s 25ms/step - loss: 0.5209 - acc: 0.7973 - val_loss: 0.5114 - val_acc: 0.8043\n",
      "Epoch 10/40\n",
      "71/71 [==============================] - 2s 23ms/step - loss: 0.5175 - acc: 0.7984 - val_loss: 0.5072 - val_acc: 0.8052\n",
      "Epoch 11/40\n",
      "71/71 [==============================] - 2s 27ms/step - loss: 0.5145 - acc: 0.7969 - val_loss: 0.5037 - val_acc: 0.8052\n",
      "Epoch 12/40\n",
      "71/71 [==============================] - 2s 23ms/step - loss: 0.5117 - acc: 0.7958 - val_loss: 0.5011 - val_acc: 0.8097\n",
      "Epoch 13/40\n",
      "71/71 [==============================] - 2s 24ms/step - loss: 0.5094 - acc: 0.7958 - val_loss: 0.4984 - val_acc: 0.8097\n",
      "Epoch 14/40\n",
      "71/71 [==============================] - 2s 26ms/step - loss: 0.5071 - acc: 0.7953 - val_loss: 0.4962 - val_acc: 0.8070\n",
      "Epoch 15/40\n",
      "71/71 [==============================] - 2s 28ms/step - loss: 0.5054 - acc: 0.7967 - val_loss: 0.4954 - val_acc: 0.8070\n",
      "Epoch 16/40\n",
      "71/71 [==============================] - 2s 24ms/step - loss: 0.5045 - acc: 0.7960 - val_loss: 0.4948 - val_acc: 0.8088\n",
      "Epoch 17/40\n",
      "71/71 [==============================] - 2s 24ms/step - loss: 0.5034 - acc: 0.7960 - val_loss: 0.4940 - val_acc: 0.8088\n",
      "Epoch 18/40\n",
      "71/71 [==============================] - 2s 27ms/step - loss: 0.5027 - acc: 0.7949 - val_loss: 0.4921 - val_acc: 0.8097\n",
      "Epoch 19/40\n",
      "71/71 [==============================] - 2s 25ms/step - loss: 0.5017 - acc: 0.7951 - val_loss: 0.4907 - val_acc: 0.8097\n",
      "Epoch 20/40\n",
      "71/71 [==============================] - 2s 24ms/step - loss: 0.5008 - acc: 0.7960 - val_loss: 0.4910 - val_acc: 0.8088\n",
      "Epoch 21/40\n",
      "71/71 [==============================] - 2s 24ms/step - loss: 0.5003 - acc: 0.7956 - val_loss: 0.4892 - val_acc: 0.8106\n",
      "Epoch 22/40\n",
      "71/71 [==============================] - 2s 28ms/step - loss: 0.4998 - acc: 0.7960 - val_loss: 0.4890 - val_acc: 0.8115\n",
      "Epoch 23/40\n",
      "71/71 [==============================] - 2s 26ms/step - loss: 0.4994 - acc: 0.7973 - val_loss: 0.4884 - val_acc: 0.8124\n",
      "Epoch 24/40\n",
      "71/71 [==============================] - 2s 23ms/step - loss: 0.4988 - acc: 0.7978 - val_loss: 0.4877 - val_acc: 0.8106\n",
      "Epoch 25/40\n",
      "71/71 [==============================] - 2s 23ms/step - loss: 0.4981 - acc: 0.7976 - val_loss: 0.4870 - val_acc: 0.8106\n",
      "Epoch 26/40\n",
      "71/71 [==============================] - 2s 26ms/step - loss: 0.4978 - acc: 0.7976 - val_loss: 0.4869 - val_acc: 0.8124\n",
      "Epoch 27/40\n",
      "71/71 [==============================] - 2s 24ms/step - loss: 0.4974 - acc: 0.7964 - val_loss: 0.4861 - val_acc: 0.8124\n",
      "Epoch 28/40\n",
      "71/71 [==============================] - 2s 25ms/step - loss: 0.4971 - acc: 0.7964 - val_loss: 0.4856 - val_acc: 0.8133\n",
      "Epoch 29/40\n",
      "71/71 [==============================] - 2s 26ms/step - loss: 0.4965 - acc: 0.7978 - val_loss: 0.4854 - val_acc: 0.8133\n",
      "Epoch 30/40\n",
      "71/71 [==============================] - 2s 23ms/step - loss: 0.4961 - acc: 0.7978 - val_loss: 0.4854 - val_acc: 0.8142\n",
      "Epoch 31/40\n",
      "71/71 [==============================] - 2s 22ms/step - loss: 0.4957 - acc: 0.7984 - val_loss: 0.4839 - val_acc: 0.8133\n",
      "Epoch 32/40\n",
      "71/71 [==============================] - 2s 23ms/step - loss: 0.4952 - acc: 0.7998 - val_loss: 0.4834 - val_acc: 0.8142\n",
      "Epoch 33/40\n",
      "71/71 [==============================] - 2s 28ms/step - loss: 0.4946 - acc: 0.7991 - val_loss: 0.4829 - val_acc: 0.8142\n",
      "Epoch 34/40\n",
      "71/71 [==============================] - 2s 24ms/step - loss: 0.4945 - acc: 0.7980 - val_loss: 0.4840 - val_acc: 0.8151\n",
      "Epoch 35/40\n",
      "71/71 [==============================] - 2s 23ms/step - loss: 0.4939 - acc: 0.8000 - val_loss: 0.4809 - val_acc: 0.8151\n",
      "Epoch 36/40\n",
      "71/71 [==============================] - 2s 27ms/step - loss: 0.4932 - acc: 0.8002 - val_loss: 0.4807 - val_acc: 0.8151\n",
      "Epoch 37/40\n",
      "71/71 [==============================] - 2s 23ms/step - loss: 0.4928 - acc: 0.7996 - val_loss: 0.4802 - val_acc: 0.8161\n",
      "Epoch 38/40\n",
      "71/71 [==============================] - 2s 25ms/step - loss: 0.4923 - acc: 0.8002 - val_loss: 0.4800 - val_acc: 0.8161\n",
      "Epoch 39/40\n",
      "71/71 [==============================] - 2s 28ms/step - loss: 0.4918 - acc: 0.7996 - val_loss: 0.4792 - val_acc: 0.8151\n",
      "Epoch 40/40\n",
      "71/71 [==============================] - 2s 23ms/step - loss: 0.4911 - acc: 0.7989 - val_loss: 0.4785 - val_acc: 0.8161\n"
     ]
    }
   ],
   "source": [
    "# ClearSession\n",
    "keras.backend.clear_session()\n",
    "np.random.seed(42)\n",
    "tf.random.set_seed(42)\n",
    "\n",
    "# Compiling model with Seq-API\n",
    "improved_seq = model_seq_imp.fit(training_batches, epochs = 40, validation_data = validation_batches)"
   ]
  },
  {
   "cell_type": "code",
   "execution_count": 204,
   "metadata": {},
   "outputs": [
    {
     "name": "stdout",
     "output_type": "stream",
     "text": [
      "Model: \"sequential\"\n",
      "_________________________________________________________________\n",
      " Layer (type)                Output Shape              Param #   \n",
      "=================================================================\n",
      " batch_normalization (BatchN  (None, 42)               168       \n",
      " ormalization)                                                   \n",
      "                                                                 \n",
      " dense (Dense)               (None, 256)               11008     \n",
      "                                                                 \n",
      " batch_normalization_1 (Batc  (None, 256)              1024      \n",
      " hNormalization)                                                 \n",
      "                                                                 \n",
      " dense_1 (Dense)             (None, 128)               32896     \n",
      "                                                                 \n",
      " dense_2 (Dense)             (None, 1)                 129       \n",
      "                                                                 \n",
      "=================================================================\n",
      "Total params: 45,225\n",
      "Trainable params: 44,629\n",
      "Non-trainable params: 596\n",
      "_________________________________________________________________\n"
     ]
    }
   ],
   "source": [
    "# summary model\n",
    "model_seq_imp.summary()"
   ]
  },
  {
   "cell_type": "markdown",
   "metadata": {},
   "source": [
    "Total parameter yang dihasilkan sedikit lebih banyak dari sequential base model dengan selisih 1222 param."
   ]
  },
  {
   "cell_type": "code",
   "execution_count": 205,
   "metadata": {},
   "outputs": [
    {
     "data": {
      "image/png": "[encoded data removed]",
      "text/plain": [
       "<Figure size 1080x720 with 1 Axes>"
      ]
     },
     "metadata": {
      "needs_background": "light"
     },
     "output_type": "display_data"
    }
   ],
   "source": [
    "# Graph plot of train process model\n",
    "pd.DataFrame(improved_seq.history).plot(figsize=(15, 10))\n",
    "plt.grid(True)\n",
    "plt.gca().set_ylim(0, 1)\n",
    "save_fig(\"keras-plot-seqmodel-improved\")\n",
    "plt.show()"
   ]
  },
  {
   "cell_type": "markdown",
   "metadata": {},
   "source": [
    "Nilai `accuracy` dan `loss` di validasi sudah cukup konvergen satu sama lain, meskipun nilai `loss` baik di training dan validation batches cukup tinggi di epoch 1 sampai 3 dan akhirnya konvergen di epoch ke 5."
   ]
  },
  {
   "cell_type": "markdown",
   "metadata": {},
   "source": [
    "### *Improving Functional Model*"
   ]
  },
  {
   "cell_type": "code",
   "execution_count": 206,
   "metadata": {},
   "outputs": [],
   "source": [
    "# Define the model improvement\n",
    "input_ = keras.layers.Input(shape = X_trains.shape[1:])\n",
    "hidden1 = keras.layers.Dense(1024, activation = \"relu\")(input_)\n",
    "drop1 = keras.layers.Dropout(0.1)(hidden1)\n",
    "hidden2 = keras.layers.Dense(1024, activation = \"relu\")(drop1)\n",
    "drop2 = keras.layers.Dropout(0.1)(hidden2)\n",
    "hidden3 = keras.layers.Dense(1024, activation = \"relu\")(drop2)\n",
    "drop3 = keras.layers.Dropout(0.1)(hidden3)\n",
    "hidden4 = keras.layers.Dense(512, activation = \"relu\")(drop3)\n",
    "drop4 = keras.layers.Dropout(0.2)(hidden4)\n",
    "hidden5 = keras.layers.Dense(256, activation = \"relu\")(drop4)\n",
    "drop5 = keras.layers.Dropout(0.2)(hidden5)\n",
    "hidden6 = keras.layers.Dense(128, activation = \"relu\")(drop5)\n",
    "drop6 = keras.layers.Dropout(0.2)(hidden6)\n",
    "concat = keras.layers.concatenate([input_, drop6])\n",
    "output = keras.layers.Dense(1, activation=\"sigmoid\")(concat)\n",
    "model_fun_imp = keras.models.Model(inputs = [input_], outputs = [output])\n",
    "\n",
    "# Adding Callbacks\n",
    "reduce_lr = keras.callbacks.ReduceLROnPlateau(monitor='val_loss', factor=0.3, verbose=1,patience=10, min_lr=0.0000000001)\n",
    "early_stopping_cb = keras.callbacks.EarlyStopping(patience=10, restore_best_weights=True)\n",
    "\n",
    "# compiling\n",
    "model_fun_imp.compile(optimizer = 'sgd', loss = \"binary_crossentropy\", metrics=['acc'])"
   ]
  },
  {
   "cell_type": "markdown",
   "metadata": {},
   "source": [
    "Untuk model functional improvement ini digunakan 15 layer yaitu\n",
    "- 1 input layer, \n",
    "- 6 hidden layers (yang masing-masing memiliki 1024, 512, 256 dan 128 neurons dengan fungsi activation \"`relu`\"), \n",
    "- 6 layer untuk `Dropout` (teknik regularisasi jaringan syaraf dimana beberapa neuron akan dipilih secara acak dan tidak dipakai selama pelatihan. Neuron neuron ini dapat dibilang dibuang secara acak) untuk mencegah overfitting dan mengakselerasi processing.\n",
    "- 1 layer concat, dan\n",
    "- 1 output layer (dengan fungsi activation \"`sigmoid`\").\n",
    "\n",
    "Sedikit berbeda dari parameter yang digunakan di base model functional, untuk improvement dilakukan penambahan `Callbacks ReduceLROnPlateau` dan `Callbacks EarlyStopping`.\n",
    "\n",
    "Kenapa digunakan `Callbacks ReduceLROnPlateau` dan `Callbacks EarlyStopping`? \n",
    "- `Callbacks ReduceLROnPlateau` digunakan untuk mereduksi learning rate jika metrics yang digunakan (dalam hal ini accuracy) tidak berubah / not improving atau ketika nilainya stagnant.\n",
    "- `Callbacks EarlyStopping` digunakan untuk menghentikan training epochs ketika performansi model tidak menunjukkan improving performance di validation batches."
   ]
  },
  {
   "cell_type": "code",
   "execution_count": 207,
   "metadata": {},
   "outputs": [
    {
     "name": "stdout",
     "output_type": "stream",
     "text": [
      "Epoch 1/100\n",
      "71/71 [==============================] - 5s 55ms/step - loss: 0.6049 - acc: 0.6700 - val_loss: 0.5203 - val_acc: 0.7268 - lr: 0.0100\n",
      "Epoch 2/100\n",
      "71/71 [==============================] - 2s 22ms/step - loss: 0.4841 - acc: 0.7673 - val_loss: 0.4565 - val_acc: 0.7872 - lr: 0.0100\n",
      "Epoch 3/100\n",
      "71/71 [==============================] - 1s 21ms/step - loss: 0.4478 - acc: 0.7876 - val_loss: 0.4334 - val_acc: 0.7980 - lr: 0.0100\n",
      "Epoch 4/100\n",
      "71/71 [==============================] - 2s 26ms/step - loss: 0.4329 - acc: 0.8000 - val_loss: 0.4233 - val_acc: 0.8016 - lr: 0.0100\n",
      "Epoch 5/100\n",
      "71/71 [==============================] - 2s 32ms/step - loss: 0.4288 - acc: 0.7978 - val_loss: 0.4187 - val_acc: 0.8034 - lr: 0.0100\n",
      "Epoch 6/100\n",
      "71/71 [==============================] - 2s 27ms/step - loss: 0.4245 - acc: 0.8020 - val_loss: 0.4159 - val_acc: 0.8079 - lr: 0.0100\n",
      "Epoch 7/100\n",
      "71/71 [==============================] - 2s 28ms/step - loss: 0.4229 - acc: 0.7980 - val_loss: 0.4141 - val_acc: 0.8097 - lr: 0.0100\n",
      "Epoch 8/100\n",
      "71/71 [==============================] - 2s 31ms/step - loss: 0.4218 - acc: 0.8018 - val_loss: 0.4130 - val_acc: 0.8133 - lr: 0.0100\n",
      "Epoch 9/100\n",
      "71/71 [==============================] - 2s 28ms/step - loss: 0.4199 - acc: 0.7993 - val_loss: 0.4121 - val_acc: 0.8106 - lr: 0.0100\n",
      "Epoch 10/100\n",
      "71/71 [==============================] - 2s 26ms/step - loss: 0.4211 - acc: 0.7978 - val_loss: 0.4116 - val_acc: 0.8115 - lr: 0.0100\n",
      "Epoch 11/100\n",
      "71/71 [==============================] - 2s 26ms/step - loss: 0.4204 - acc: 0.7978 - val_loss: 0.4111 - val_acc: 0.8097 - lr: 0.0100\n",
      "Epoch 12/100\n",
      "71/71 [==============================] - 2s 30ms/step - loss: 0.4195 - acc: 0.8002 - val_loss: 0.4106 - val_acc: 0.8115 - lr: 0.0100\n",
      "Epoch 13/100\n",
      "71/71 [==============================] - 2s 26ms/step - loss: 0.4184 - acc: 0.7987 - val_loss: 0.4104 - val_acc: 0.8142 - lr: 0.0100\n",
      "Epoch 14/100\n",
      "71/71 [==============================] - 2s 27ms/step - loss: 0.4176 - acc: 0.7989 - val_loss: 0.4103 - val_acc: 0.8133 - lr: 0.0100\n",
      "Epoch 15/100\n",
      "71/71 [==============================] - 2s 29ms/step - loss: 0.4179 - acc: 0.8036 - val_loss: 0.4099 - val_acc: 0.8151 - lr: 0.0100\n",
      "Epoch 16/100\n",
      "71/71 [==============================] - 2s 31ms/step - loss: 0.4174 - acc: 0.8022 - val_loss: 0.4097 - val_acc: 0.8106 - lr: 0.0100\n",
      "Epoch 17/100\n",
      "71/71 [==============================] - 2s 27ms/step - loss: 0.4159 - acc: 0.8047 - val_loss: 0.4094 - val_acc: 0.8124 - lr: 0.0100\n",
      "Epoch 18/100\n",
      "71/71 [==============================] - 2s 28ms/step - loss: 0.4183 - acc: 0.8020 - val_loss: 0.4093 - val_acc: 0.8097 - lr: 0.0100\n",
      "Epoch 19/100\n",
      "71/71 [==============================] - 2s 32ms/step - loss: 0.4147 - acc: 0.8047 - val_loss: 0.4092 - val_acc: 0.8097 - lr: 0.0100\n",
      "Epoch 20/100\n",
      "71/71 [==============================] - 2s 27ms/step - loss: 0.4142 - acc: 0.8042 - val_loss: 0.4091 - val_acc: 0.8097 - lr: 0.0100\n",
      "Epoch 21/100\n",
      "71/71 [==============================] - 2s 26ms/step - loss: 0.4154 - acc: 0.8069 - val_loss: 0.4089 - val_acc: 0.8079 - lr: 0.0100\n",
      "Epoch 22/100\n",
      "71/71 [==============================] - 2s 28ms/step - loss: 0.4147 - acc: 0.8042 - val_loss: 0.4087 - val_acc: 0.8088 - lr: 0.0100\n",
      "Epoch 23/100\n",
      "71/71 [==============================] - 2s 29ms/step - loss: 0.4156 - acc: 0.8007 - val_loss: 0.4086 - val_acc: 0.8097 - lr: 0.0100\n",
      "Epoch 24/100\n",
      "71/71 [==============================] - 2s 27ms/step - loss: 0.4147 - acc: 0.8056 - val_loss: 0.4086 - val_acc: 0.8088 - lr: 0.0100\n",
      "Epoch 25/100\n",
      "71/71 [==============================] - 2s 27ms/step - loss: 0.4163 - acc: 0.8036 - val_loss: 0.4085 - val_acc: 0.8061 - lr: 0.0100\n",
      "Epoch 26/100\n",
      "71/71 [==============================] - 2s 29ms/step - loss: 0.4148 - acc: 0.8053 - val_loss: 0.4083 - val_acc: 0.8124 - lr: 0.0100\n",
      "Epoch 27/100\n",
      "71/71 [==============================] - 2s 31ms/step - loss: 0.4109 - acc: 0.8042 - val_loss: 0.4083 - val_acc: 0.8115 - lr: 0.0100\n",
      "Epoch 28/100\n",
      "71/71 [==============================] - 2s 27ms/step - loss: 0.4136 - acc: 0.8016 - val_loss: 0.4083 - val_acc: 0.8070 - lr: 0.0100\n",
      "Epoch 29/100\n",
      "71/71 [==============================] - 2s 26ms/step - loss: 0.4128 - acc: 0.8022 - val_loss: 0.4082 - val_acc: 0.8079 - lr: 0.0100\n",
      "Epoch 30/100\n",
      "71/71 [==============================] - 2s 26ms/step - loss: 0.4125 - acc: 0.8036 - val_loss: 0.4082 - val_acc: 0.8070 - lr: 0.0100\n",
      "Epoch 31/100\n",
      "71/71 [==============================] - 2s 32ms/step - loss: 0.4121 - acc: 0.8024 - val_loss: 0.4081 - val_acc: 0.8070 - lr: 0.0100\n",
      "Epoch 32/100\n",
      "71/71 [==============================] - 2s 27ms/step - loss: 0.4120 - acc: 0.8064 - val_loss: 0.4081 - val_acc: 0.8079 - lr: 0.0100\n",
      "Epoch 33/100\n",
      "71/71 [==============================] - 2s 26ms/step - loss: 0.4118 - acc: 0.8036 - val_loss: 0.4081 - val_acc: 0.8088 - lr: 0.0100\n",
      "Epoch 34/100\n",
      "71/71 [==============================] - 2s 26ms/step - loss: 0.4097 - acc: 0.8047 - val_loss: 0.4082 - val_acc: 0.8097 - lr: 0.0100\n",
      "Epoch 35/100\n",
      "71/71 [==============================] - 2s 32ms/step - loss: 0.4108 - acc: 0.8044 - val_loss: 0.4079 - val_acc: 0.8079 - lr: 0.0100\n",
      "Epoch 36/100\n",
      "71/71 [==============================] - 2s 27ms/step - loss: 0.4104 - acc: 0.8033 - val_loss: 0.4083 - val_acc: 0.8070 - lr: 0.0100\n",
      "Epoch 37/100\n",
      "71/71 [==============================] - 2s 26ms/step - loss: 0.4086 - acc: 0.8058 - val_loss: 0.4083 - val_acc: 0.8070 - lr: 0.0100\n",
      "Epoch 38/100\n",
      "71/71 [==============================] - 2s 26ms/step - loss: 0.4090 - acc: 0.8056 - val_loss: 0.4081 - val_acc: 0.8079 - lr: 0.0100\n",
      "Epoch 39/100\n",
      "71/71 [==============================] - 2s 31ms/step - loss: 0.4117 - acc: 0.8027 - val_loss: 0.4081 - val_acc: 0.8079 - lr: 0.0100\n",
      "Epoch 40/100\n",
      "71/71 [==============================] - 2s 27ms/step - loss: 0.4101 - acc: 0.8044 - val_loss: 0.4079 - val_acc: 0.8097 - lr: 0.0100\n",
      "Epoch 41/100\n",
      "71/71 [==============================] - 2s 26ms/step - loss: 0.4084 - acc: 0.8064 - val_loss: 0.4081 - val_acc: 0.8088 - lr: 0.0100\n",
      "Epoch 42/100\n",
      "71/71 [==============================] - 2s 29ms/step - loss: 0.4086 - acc: 0.8071 - val_loss: 0.4080 - val_acc: 0.8088 - lr: 0.0100\n",
      "Epoch 43/100\n",
      "71/71 [==============================] - 2s 26ms/step - loss: 0.4095 - acc: 0.8047 - val_loss: 0.4080 - val_acc: 0.8097 - lr: 0.0100\n",
      "Epoch 44/100\n",
      "71/71 [==============================] - 2s 28ms/step - loss: 0.4092 - acc: 0.8049 - val_loss: 0.4081 - val_acc: 0.8097 - lr: 0.0100\n",
      "Epoch 45/100\n",
      "71/71 [==============================] - ETA: 0s - loss: 0.4068 - acc: 0.8064\n",
      "Epoch 45: ReduceLROnPlateau reducing learning rate to 0.0029999999329447745.\n",
      "71/71 [==============================] - 2s 26ms/step - loss: 0.4068 - acc: 0.8064 - val_loss: 0.4082 - val_acc: 0.8115 - lr: 0.0100\n",
      "Epoch 46/100\n",
      "71/71 [==============================] - 2s 28ms/step - loss: 0.4059 - acc: 0.8080 - val_loss: 0.4080 - val_acc: 0.8124 - lr: 0.0030\n",
      "Epoch 47/100\n",
      "71/71 [==============================] - 2s 27ms/step - loss: 0.4076 - acc: 0.8069 - val_loss: 0.4080 - val_acc: 0.8124 - lr: 0.0030\n",
      "Epoch 48/100\n",
      "71/71 [==============================] - 2s 27ms/step - loss: 0.4071 - acc: 0.8089 - val_loss: 0.4081 - val_acc: 0.8124 - lr: 0.0030\n",
      "Epoch 49/100\n",
      "71/71 [==============================] - 2s 32ms/step - loss: 0.4069 - acc: 0.8080 - val_loss: 0.4082 - val_acc: 0.8115 - lr: 0.0030\n",
      "Epoch 50/100\n",
      "71/71 [==============================] - 2s 26ms/step - loss: 0.4049 - acc: 0.8080 - val_loss: 0.4081 - val_acc: 0.8115 - lr: 0.0030\n"
     ]
    }
   ],
   "source": [
    "# ClearSession\n",
    "keras.backend.clear_session()\n",
    "np.random.seed(42)\n",
    "tf.random.set_seed(42)\n",
    "\n",
    "# Compiling model with Func-API\n",
    "improved_fun = model_fun_imp.fit(training_batches, epochs = 100, validation_data = validation_batches, callbacks=[early_stopping_cb, reduce_lr]) "
   ]
  },
  {
   "cell_type": "code",
   "execution_count": 208,
   "metadata": {},
   "outputs": [
    {
     "name": "stdout",
     "output_type": "stream",
     "text": [
      "Model: \"model\"\n",
      "__________________________________________________________________________________________________\n",
      " Layer (type)                   Output Shape         Param #     Connected to                     \n",
      "==================================================================================================\n",
      " input_1 (InputLayer)           [(None, 42)]         0           []                               \n",
      "                                                                                                  \n",
      " dense (Dense)                  (None, 1024)         44032       ['input_1[0][0]']                \n",
      "                                                                                                  \n",
      " dropout (Dropout)              (None, 1024)         0           ['dense[0][0]']                  \n",
      "                                                                                                  \n",
      " dense_1 (Dense)                (None, 1024)         1049600     ['dropout[0][0]']                \n",
      "                                                                                                  \n",
      " dropout_1 (Dropout)            (None, 1024)         0           ['dense_1[0][0]']                \n",
      "                                                                                                  \n",
      " dense_2 (Dense)                (None, 1024)         1049600     ['dropout_1[0][0]']              \n",
      "                                                                                                  \n",
      " dropout_2 (Dropout)            (None, 1024)         0           ['dense_2[0][0]']                \n",
      "                                                                                                  \n",
      " dense_3 (Dense)                (None, 512)          524800      ['dropout_2[0][0]']              \n",
      "                                                                                                  \n",
      " dropout_3 (Dropout)            (None, 512)          0           ['dense_3[0][0]']                \n",
      "                                                                                                  \n",
      " dense_4 (Dense)                (None, 256)          131328      ['dropout_3[0][0]']              \n",
      "                                                                                                  \n",
      " dropout_4 (Dropout)            (None, 256)          0           ['dense_4[0][0]']                \n",
      "                                                                                                  \n",
      " dense_5 (Dense)                (None, 128)          32896       ['dropout_4[0][0]']              \n",
      "                                                                                                  \n",
      " dropout_5 (Dropout)            (None, 128)          0           ['dense_5[0][0]']                \n",
      "                                                                                                  \n",
      " concatenate (Concatenate)      (None, 170)          0           ['input_1[0][0]',                \n",
      "                                                                  'dropout_5[0][0]']              \n",
      "                                                                                                  \n",
      " dense_6 (Dense)                (None, 1)            171         ['concatenate[0][0]']            \n",
      "                                                                                                  \n",
      "==================================================================================================\n",
      "Total params: 2,832,427\n",
      "Trainable params: 2,832,427\n",
      "Non-trainable params: 0\n",
      "__________________________________________________________________________________________________\n"
     ]
    }
   ],
   "source": [
    "# Summary model\n",
    "\n",
    "model_fun_imp.summary()"
   ]
  },
  {
   "cell_type": "code",
   "execution_count": 209,
   "metadata": {},
   "outputs": [
    {
     "data": {
      "image/png": "[encoded data removed]",
      "text/plain": [
       "<Figure size 1080x720 with 1 Axes>"
      ]
     },
     "metadata": {
      "needs_background": "light"
     },
     "output_type": "display_data"
    }
   ],
   "source": [
    "# Graph plot of train process model\n",
    "pd.DataFrame(improved_fun.history).plot(figsize=(15, 10))\n",
    "plt.grid(True)\n",
    "plt.gca().set_ylim(0, 1)\n",
    "save_fig(\"keras-plot-funmodel-improved\")\n",
    "plt.show()"
   ]
  },
  {
   "cell_type": "markdown",
   "metadata": {},
   "source": [
    "Dari plot di atas, dapat dilihat bahwa nilai `accuracy` dan `loss` di training dan validasi batcehs sangat konvergen satu sama lain, jika dibandingkan dengan 3 model sebelumnya. Nilai accuracy semakin lama semakin meningkat baik di training maupun di validation batches, begitupun dengan nilai loss yang semakin lama semakin menurun walaupun seiring berjalannya epochs time nilainya konstan (tidak turun ataupun naik). \n",
    "\n",
    "Apakah ini adalah indikasi bahwa model functional improved ini adalah yang terbaik? evaluasi terhadap performansi model dan classification report akan di bahas di *BAB Model Evaluation*."
   ]
  },
  {
   "cell_type": "markdown",
   "metadata": {},
   "source": [
    "# 10. Model Evaluation"
   ]
  },
  {
   "cell_type": "markdown",
   "metadata": {},
   "source": [
    "### *Classification Report on Train Set*"
   ]
  },
  {
   "cell_type": "code",
   "execution_count": 223,
   "metadata": {},
   "outputs": [
    {
     "name": "stdout",
     "output_type": "stream",
     "text": [
      "141/141 [==============================] - 1s 7ms/step\n",
      "141/141 [==============================] - 1s 5ms/step\n",
      "141/141 [==============================] - 1s 6ms/step\n",
      "141/141 [==============================] - 2s 13ms/step\n",
      "Sequential base model evaluation: \n",
      "               precision    recall  f1-score   support\n",
      "\n",
      "           0       0.87      0.96      0.91      3309\n",
      "           1       0.84      0.60      0.70      1191\n",
      "\n",
      "    accuracy                           0.86      4500\n",
      "   macro avg       0.85      0.78      0.81      4500\n",
      "weighted avg       0.86      0.86      0.86      4500\n",
      "\n",
      "-------------------------------------------------------\n",
      "Sequential improved model evaluation: \n",
      "               precision    recall  f1-score   support\n",
      "\n",
      "           0       0.74      1.00      0.85      3309\n",
      "           1       0.00      0.00      0.00      1191\n",
      "\n",
      "    accuracy                           0.74      4500\n",
      "   macro avg       0.37      0.50      0.42      4500\n",
      "weighted avg       0.54      0.74      0.62      4500\n",
      "\n",
      "-------------------------------------------------------\n",
      "Functional base model evaluation: \n",
      "               precision    recall  f1-score   support\n",
      "\n",
      "           0       0.87      0.96      0.91      3309\n",
      "           1       0.84      0.60      0.70      1191\n",
      "\n",
      "    accuracy                           0.86      4500\n",
      "   macro avg       0.85      0.78      0.81      4500\n",
      "weighted avg       0.86      0.86      0.86      4500\n",
      "\n",
      "-------------------------------------------------------\n",
      "Functional improved model evaluation: \n",
      "               precision    recall  f1-score   support\n",
      "\n",
      "           0       0.79      0.97      0.87      3309\n",
      "           1       0.76      0.29      0.42      1191\n",
      "\n",
      "    accuracy                           0.79      4500\n",
      "   macro avg       0.77      0.63      0.65      4500\n",
      "weighted avg       0.78      0.79      0.75      4500\n",
      "\n"
     ]
    }
   ],
   "source": [
    "# Predicting\n",
    "y_predseq1 = model_seq.predict(X_trains)\n",
    "y_predfun1 = model_seq.predict(X_trains)\n",
    "y_predseq_imp1 = model_seq_imp.predict(X_trains)\n",
    "y_predfun_imp1 = model_fun_imp.predict(X_trains)\n",
    "y_predseq1 = np.where(y_predseq1 > 0.5, 1, 0)\n",
    "y_predfun1 = np.where(y_predfun1 > 0.5, 1, 0)\n",
    "y_predseq_imp1 = np.where(y_predseq_imp1 > 0.5, 1, 0)\n",
    "y_predfun_imp1 = np.where(y_predfun_imp1 > 0.5, 1, 0)\n",
    "\n",
    "# Classification all models (base and improved)\n",
    "print(\"Sequential base model evaluation: \\n\", classification_report(y_trains, y_predseq1))\n",
    "print('-'*55)\n",
    "print(\"Sequential improved model evaluation: \\n\", classification_report(y_trains, y_predseq_imp1))\n",
    "print('-'*55)\n",
    "print(\"Functional base model evaluation: \\n\", classification_report(y_trains, y_predfun1))\n",
    "print('-'*55)\n",
    "print(\"Functional improved model evaluation: \\n\", classification_report(y_trains, y_predfun_imp1))"
   ]
  },
  {
   "cell_type": "markdown",
   "metadata": {},
   "source": [
    "### *Classification Report on Test Set*"
   ]
  },
  {
   "cell_type": "code",
   "execution_count": 224,
   "metadata": {},
   "outputs": [
    {
     "name": "stdout",
     "output_type": "stream",
     "text": [
      "44/44 [==============================] - 1s 9ms/step\n",
      "44/44 [==============================] - 0s 8ms/step\n",
      "44/44 [==============================] - 0s 7ms/step\n",
      "44/44 [==============================] - 1s 11ms/step\n",
      "Sequential base model evaluation: \n",
      "               precision    recall  f1-score   support\n",
      "\n",
      "           0       0.81      0.91      0.85      1025\n",
      "           1       0.62      0.42      0.50       378\n",
      "\n",
      "    accuracy                           0.77      1403\n",
      "   macro avg       0.71      0.66      0.68      1403\n",
      "weighted avg       0.76      0.77      0.76      1403\n",
      "\n",
      "-------------------------------------------------------\n",
      "Sequential improved model evaluation: \n",
      "               precision    recall  f1-score   support\n",
      "\n",
      "           0       0.73      1.00      0.84      1025\n",
      "           1       0.00      0.00      0.00       378\n",
      "\n",
      "    accuracy                           0.73      1403\n",
      "   macro avg       0.37      0.50      0.42      1403\n",
      "weighted avg       0.53      0.73      0.62      1403\n",
      "\n",
      "-------------------------------------------------------\n",
      "Functional base model evaluation: \n",
      "               precision    recall  f1-score   support\n",
      "\n",
      "           0       0.81      0.91      0.85      1025\n",
      "           1       0.62      0.42      0.50       378\n",
      "\n",
      "    accuracy                           0.77      1403\n",
      "   macro avg       0.71      0.66      0.68      1403\n",
      "weighted avg       0.76      0.77      0.76      1403\n",
      "\n",
      "-------------------------------------------------------\n",
      "Functional improved model evaluation: \n",
      "               precision    recall  f1-score   support\n",
      "\n",
      "           0       0.79      0.96      0.86      1025\n",
      "           1       0.72      0.30      0.43       378\n",
      "\n",
      "    accuracy                           0.78      1403\n",
      "   macro avg       0.75      0.63      0.65      1403\n",
      "weighted avg       0.77      0.78      0.75      1403\n",
      "\n"
     ]
    }
   ],
   "source": [
    "# Predicting\n",
    "y_predseq = model_seq.predict(X_test_sne)\n",
    "y_predfun = model_seq.predict(X_test_sne)\n",
    "y_predseq_imp = model_seq_imp.predict(X_test_sne)\n",
    "y_predfun_imp = model_fun_imp.predict(X_test_sne)\n",
    "y_predseq = np.where(y_predseq > 0.5, 1, 0)\n",
    "y_predfun = np.where(y_predfun > 0.5, 1, 0)\n",
    "y_predseq_imp = np.where(y_predseq_imp > 0.5, 1, 0)\n",
    "y_predfun_imp = np.where(y_predfun_imp > 0.5, 1, 0)\n",
    "\n",
    "# Classification all models (base and improved)\n",
    "print(\"Sequential base model evaluation: \\n\", classification_report(y_test_enc, y_predseq))\n",
    "print('-'*55)\n",
    "print(\"Sequential improved model evaluation: \\n\", classification_report(y_test_enc, y_predseq_imp))\n",
    "print('-'*55)\n",
    "print(\"Functional base model evaluation: \\n\", classification_report(y_test_enc, y_predfun))\n",
    "print('-'*55)\n",
    "print(\"Functional improved model evaluation: \\n\", classification_report(y_test_enc, y_predfun_imp))"
   ]
  },
  {
   "cell_type": "markdown",
   "metadata": {},
   "source": [
    "- Jika diperhatikan secara seksama, classification report untuk base model baik di sequential dan functional base model memberikan nilai yang sama karena memang parameter yang digunakan sama namun cara penulisannya saja yang berbeda, yang satu dalam bentuk sequential, dan satunya dalam bentuk functional.\n",
    "- Untuk accuracy di base model, nilainya mencapai 86% di train set dan 77% di test set, dan untuk improved sequential model nilai accuracy nya mencapai sekitar 73% - 74% di train dan test set. Sedangkan improved functional model memberikan nilai accuracy dengan score 79% - 78% di train dan test setnya. \n",
    "- Nilai recall, precission, dan f1-score di semua model sangat jauh berbeda untuk tiap class karena ada imbalance data.\n",
    "- Jika ingin di analisis lebih lanjut, nilai recall untuk improved sequential model, memberikan nilai dengan selisih 100% dimana model memprediksi benar hanya di class 0 terhadap actual class-nya dan sama sekali tidak memprediksi tepat di class lain terhadap actual class nya baik di train dan test set.\n",
    "- Untuk precission, model functional yang telah di improved memberikan precission score paling baik dengan hanya selisih 3% di train set dan 7% di test set untuk kedua class di kisaran 70% hingga 80% precission.\n",
    "\n",
    "\n",
    "Additional Explanation : \n",
    "\n",
    "```python\n",
    "Accuracy : The sum of true positives and true negatives divided by the total number of samples. This is only accurate if the model is balanced. It will give inaccurate results if there is a class imbalance.\n",
    "Recall : The number of true positives divided by all true positives and all false negatives.\n",
    "Precission : The number of true positives divided by all true positives and all false positives.\n",
    "```"
   ]
  },
  {
   "cell_type": "markdown",
   "metadata": {},
   "source": [
    "# 10. Model Saving"
   ]
  },
  {
   "cell_type": "code",
   "execution_count": 217,
   "metadata": {},
   "outputs": [],
   "source": [
    "# Save the model in HDF5 format // to use for data inference\n",
    "\n",
    "model_fun_imp.save(\"my_keras_model.h5\")"
   ]
  },
  {
   "cell_type": "code",
   "execution_count": 225,
   "metadata": {},
   "outputs": [
    {
     "name": "stdout",
     "output_type": "stream",
     "text": [
      "INFO:tensorflow:Assets written to: churn\\assets\n"
     ]
    }
   ],
   "source": [
    "# freeze model\n",
    "for layer in model_fun_imp.layers:\n",
    "  layer.trainable = False\n",
    "\n",
    "# Save model not in format\n",
    "model_fun_imp.save(\"churn\")"
   ]
  },
  {
   "cell_type": "markdown",
   "metadata": {},
   "source": [
    "# 11. Model Inference"
   ]
  },
  {
   "cell_type": "code",
   "execution_count": 218,
   "metadata": {},
   "outputs": [
    {
     "data": {
      "text/html": [
       "<div>\n",
       "<style scoped>\n",
       "    .dataframe tbody tr th:only-of-type {\n",
       "        vertical-align: middle;\n",
       "    }\n",
       "\n",
       "    .dataframe tbody tr th {\n",
       "        vertical-align: top;\n",
       "    }\n",
       "\n",
       "    .dataframe thead th {\n",
       "        text-align: right;\n",
       "    }\n",
       "</style>\n",
       "<table border=\"1\" class=\"dataframe\">\n",
       "  <thead>\n",
       "    <tr style=\"text-align: right;\">\n",
       "      <th></th>\n",
       "      <th>gender</th>\n",
       "      <th>SeniorCitizen</th>\n",
       "      <th>Partner</th>\n",
       "      <th>Dependents</th>\n",
       "      <th>tenure</th>\n",
       "      <th>PhoneService</th>\n",
       "      <th>MultipleLines</th>\n",
       "      <th>InternetService</th>\n",
       "      <th>OnlineSecurity</th>\n",
       "      <th>OnlineBackup</th>\n",
       "      <th>DeviceProtection</th>\n",
       "      <th>TechSupport</th>\n",
       "      <th>StreamingTV</th>\n",
       "      <th>StreamingMovies</th>\n",
       "      <th>Contract</th>\n",
       "      <th>PaperlessBilling</th>\n",
       "      <th>PaymentMethod</th>\n",
       "      <th>MonthlyCharges</th>\n",
       "      <th>TotalCharges</th>\n",
       "      <th>Churn</th>\n",
       "    </tr>\n",
       "  </thead>\n",
       "  <tbody>\n",
       "    <tr>\n",
       "      <th>0</th>\n",
       "      <td>Male</td>\n",
       "      <td>0</td>\n",
       "      <td>No</td>\n",
       "      <td>No</td>\n",
       "      <td>1</td>\n",
       "      <td>Yes</td>\n",
       "      <td>No</td>\n",
       "      <td>No</td>\n",
       "      <td>No internet service</td>\n",
       "      <td>No internet service</td>\n",
       "      <td>No internet service</td>\n",
       "      <td>No internet service</td>\n",
       "      <td>No internet service</td>\n",
       "      <td>No internet service</td>\n",
       "      <td>Month-to-month</td>\n",
       "      <td>No</td>\n",
       "      <td>Electronic check</td>\n",
       "      <td>20.65</td>\n",
       "      <td>20.65</td>\n",
       "      <td>No</td>\n",
       "    </tr>\n",
       "    <tr>\n",
       "      <th>1</th>\n",
       "      <td>Male</td>\n",
       "      <td>0</td>\n",
       "      <td>No</td>\n",
       "      <td>No</td>\n",
       "      <td>16</td>\n",
       "      <td>Yes</td>\n",
       "      <td>No</td>\n",
       "      <td>No</td>\n",
       "      <td>No internet service</td>\n",
       "      <td>No internet service</td>\n",
       "      <td>No internet service</td>\n",
       "      <td>No internet service</td>\n",
       "      <td>No internet service</td>\n",
       "      <td>No internet service</td>\n",
       "      <td>Month-to-month</td>\n",
       "      <td>Yes</td>\n",
       "      <td>Credit card (automatic)</td>\n",
       "      <td>20.60</td>\n",
       "      <td>330.25</td>\n",
       "      <td>No</td>\n",
       "    </tr>\n",
       "    <tr>\n",
       "      <th>2</th>\n",
       "      <td>Female</td>\n",
       "      <td>0</td>\n",
       "      <td>No</td>\n",
       "      <td>No</td>\n",
       "      <td>1</td>\n",
       "      <td>Yes</td>\n",
       "      <td>No</td>\n",
       "      <td>No</td>\n",
       "      <td>No internet service</td>\n",
       "      <td>No internet service</td>\n",
       "      <td>No internet service</td>\n",
       "      <td>No internet service</td>\n",
       "      <td>No internet service</td>\n",
       "      <td>No internet service</td>\n",
       "      <td>Month-to-month</td>\n",
       "      <td>No</td>\n",
       "      <td>Credit card (automatic)</td>\n",
       "      <td>19.80</td>\n",
       "      <td>19.80</td>\n",
       "      <td>No</td>\n",
       "    </tr>\n",
       "    <tr>\n",
       "      <th>3</th>\n",
       "      <td>Male</td>\n",
       "      <td>0</td>\n",
       "      <td>No</td>\n",
       "      <td>No</td>\n",
       "      <td>1</td>\n",
       "      <td>No</td>\n",
       "      <td>No phone service</td>\n",
       "      <td>DSL</td>\n",
       "      <td>No</td>\n",
       "      <td>No</td>\n",
       "      <td>No</td>\n",
       "      <td>No</td>\n",
       "      <td>No</td>\n",
       "      <td>No</td>\n",
       "      <td>Month-to-month</td>\n",
       "      <td>Yes</td>\n",
       "      <td>Electronic check</td>\n",
       "      <td>24.25</td>\n",
       "      <td>24.25</td>\n",
       "      <td>Yes</td>\n",
       "    </tr>\n",
       "    <tr>\n",
       "      <th>4</th>\n",
       "      <td>Male</td>\n",
       "      <td>1</td>\n",
       "      <td>No</td>\n",
       "      <td>No</td>\n",
       "      <td>1</td>\n",
       "      <td>Yes</td>\n",
       "      <td>Yes</td>\n",
       "      <td>Fiber optic</td>\n",
       "      <td>No</td>\n",
       "      <td>No</td>\n",
       "      <td>No</td>\n",
       "      <td>No</td>\n",
       "      <td>No</td>\n",
       "      <td>No</td>\n",
       "      <td>Month-to-month</td>\n",
       "      <td>Yes</td>\n",
       "      <td>Electronic check</td>\n",
       "      <td>74.40</td>\n",
       "      <td>74.40</td>\n",
       "      <td>Yes</td>\n",
       "    </tr>\n",
       "    <tr>\n",
       "      <th>5</th>\n",
       "      <td>Female</td>\n",
       "      <td>0</td>\n",
       "      <td>Yes</td>\n",
       "      <td>Yes</td>\n",
       "      <td>8</td>\n",
       "      <td>Yes</td>\n",
       "      <td>Yes</td>\n",
       "      <td>DSL</td>\n",
       "      <td>No</td>\n",
       "      <td>Yes</td>\n",
       "      <td>No</td>\n",
       "      <td>No</td>\n",
       "      <td>No</td>\n",
       "      <td>No</td>\n",
       "      <td>Month-to-month</td>\n",
       "      <td>No</td>\n",
       "      <td>Electronic check</td>\n",
       "      <td>55.75</td>\n",
       "      <td>446.80</td>\n",
       "      <td>No</td>\n",
       "    </tr>\n",
       "    <tr>\n",
       "      <th>6</th>\n",
       "      <td>Male</td>\n",
       "      <td>1</td>\n",
       "      <td>Yes</td>\n",
       "      <td>No</td>\n",
       "      <td>27</td>\n",
       "      <td>Yes</td>\n",
       "      <td>Yes</td>\n",
       "      <td>Fiber optic</td>\n",
       "      <td>Yes</td>\n",
       "      <td>No</td>\n",
       "      <td>Yes</td>\n",
       "      <td>No</td>\n",
       "      <td>No</td>\n",
       "      <td>No</td>\n",
       "      <td>One year</td>\n",
       "      <td>Yes</td>\n",
       "      <td>Electronic check</td>\n",
       "      <td>85.90</td>\n",
       "      <td>2220.10</td>\n",
       "      <td>No</td>\n",
       "    </tr>\n",
       "    <tr>\n",
       "      <th>7</th>\n",
       "      <td>Female</td>\n",
       "      <td>0</td>\n",
       "      <td>No</td>\n",
       "      <td>No</td>\n",
       "      <td>1</td>\n",
       "      <td>Yes</td>\n",
       "      <td>No</td>\n",
       "      <td>Fiber optic</td>\n",
       "      <td>No</td>\n",
       "      <td>No</td>\n",
       "      <td>No</td>\n",
       "      <td>No</td>\n",
       "      <td>No</td>\n",
       "      <td>No</td>\n",
       "      <td>Month-to-month</td>\n",
       "      <td>Yes</td>\n",
       "      <td>Electronic check</td>\n",
       "      <td>69.60</td>\n",
       "      <td>69.60</td>\n",
       "      <td>Yes</td>\n",
       "    </tr>\n",
       "    <tr>\n",
       "      <th>8</th>\n",
       "      <td>Female</td>\n",
       "      <td>0</td>\n",
       "      <td>No</td>\n",
       "      <td>No</td>\n",
       "      <td>4</td>\n",
       "      <td>Yes</td>\n",
       "      <td>No</td>\n",
       "      <td>No</td>\n",
       "      <td>No internet service</td>\n",
       "      <td>No internet service</td>\n",
       "      <td>No internet service</td>\n",
       "      <td>No internet service</td>\n",
       "      <td>No internet service</td>\n",
       "      <td>No internet service</td>\n",
       "      <td>Month-to-month</td>\n",
       "      <td>Yes</td>\n",
       "      <td>Credit card (automatic)</td>\n",
       "      <td>20.15</td>\n",
       "      <td>68.45</td>\n",
       "      <td>No</td>\n",
       "    </tr>\n",
       "    <tr>\n",
       "      <th>9</th>\n",
       "      <td>Male</td>\n",
       "      <td>0</td>\n",
       "      <td>Yes</td>\n",
       "      <td>No</td>\n",
       "      <td>48</td>\n",
       "      <td>Yes</td>\n",
       "      <td>Yes</td>\n",
       "      <td>Fiber optic</td>\n",
       "      <td>Yes</td>\n",
       "      <td>Yes</td>\n",
       "      <td>Yes</td>\n",
       "      <td>No</td>\n",
       "      <td>Yes</td>\n",
       "      <td>Yes</td>\n",
       "      <td>Month-to-month</td>\n",
       "      <td>Yes</td>\n",
       "      <td>Bank transfer (automatic)</td>\n",
       "      <td>111.45</td>\n",
       "      <td>5315.10</td>\n",
       "      <td>No</td>\n",
       "    </tr>\n",
       "    <tr>\n",
       "      <th>10</th>\n",
       "      <td>Male</td>\n",
       "      <td>0</td>\n",
       "      <td>Yes</td>\n",
       "      <td>Yes</td>\n",
       "      <td>38</td>\n",
       "      <td>Yes</td>\n",
       "      <td>Yes</td>\n",
       "      <td>Fiber optic</td>\n",
       "      <td>No</td>\n",
       "      <td>No</td>\n",
       "      <td>Yes</td>\n",
       "      <td>No</td>\n",
       "      <td>Yes</td>\n",
       "      <td>Yes</td>\n",
       "      <td>Month-to-month</td>\n",
       "      <td>Yes</td>\n",
       "      <td>Credit card (automatic)</td>\n",
       "      <td>101.15</td>\n",
       "      <td>3956.70</td>\n",
       "      <td>No</td>\n",
       "    </tr>\n",
       "    <tr>\n",
       "      <th>11</th>\n",
       "      <td>Male</td>\n",
       "      <td>0</td>\n",
       "      <td>Yes</td>\n",
       "      <td>Yes</td>\n",
       "      <td>39</td>\n",
       "      <td>Yes</td>\n",
       "      <td>Yes</td>\n",
       "      <td>No</td>\n",
       "      <td>No internet service</td>\n",
       "      <td>No internet service</td>\n",
       "      <td>No internet service</td>\n",
       "      <td>No internet service</td>\n",
       "      <td>No internet service</td>\n",
       "      <td>No internet service</td>\n",
       "      <td>Two year</td>\n",
       "      <td>Yes</td>\n",
       "      <td>Mailed check</td>\n",
       "      <td>23.80</td>\n",
       "      <td>903.80</td>\n",
       "      <td>No</td>\n",
       "    </tr>\n",
       "    <tr>\n",
       "      <th>12</th>\n",
       "      <td>Female</td>\n",
       "      <td>0</td>\n",
       "      <td>Yes</td>\n",
       "      <td>Yes</td>\n",
       "      <td>23</td>\n",
       "      <td>Yes</td>\n",
       "      <td>No</td>\n",
       "      <td>Fiber optic</td>\n",
       "      <td>No</td>\n",
       "      <td>Yes</td>\n",
       "      <td>Yes</td>\n",
       "      <td>Yes</td>\n",
       "      <td>No</td>\n",
       "      <td>No</td>\n",
       "      <td>Month-to-month</td>\n",
       "      <td>No</td>\n",
       "      <td>Electronic check</td>\n",
       "      <td>83.80</td>\n",
       "      <td>1900.25</td>\n",
       "      <td>Yes</td>\n",
       "    </tr>\n",
       "    <tr>\n",
       "      <th>13</th>\n",
       "      <td>Male</td>\n",
       "      <td>0</td>\n",
       "      <td>Yes</td>\n",
       "      <td>No</td>\n",
       "      <td>70</td>\n",
       "      <td>Yes</td>\n",
       "      <td>Yes</td>\n",
       "      <td>No</td>\n",
       "      <td>No internet service</td>\n",
       "      <td>No internet service</td>\n",
       "      <td>No internet service</td>\n",
       "      <td>No internet service</td>\n",
       "      <td>No internet service</td>\n",
       "      <td>No internet service</td>\n",
       "      <td>Two year</td>\n",
       "      <td>No</td>\n",
       "      <td>Bank transfer (automatic)</td>\n",
       "      <td>25.15</td>\n",
       "      <td>1940.85</td>\n",
       "      <td>No</td>\n",
       "    </tr>\n",
       "    <tr>\n",
       "      <th>14</th>\n",
       "      <td>Female</td>\n",
       "      <td>0</td>\n",
       "      <td>No</td>\n",
       "      <td>No</td>\n",
       "      <td>25</td>\n",
       "      <td>Yes</td>\n",
       "      <td>Yes</td>\n",
       "      <td>No</td>\n",
       "      <td>No internet service</td>\n",
       "      <td>No internet service</td>\n",
       "      <td>No internet service</td>\n",
       "      <td>No internet service</td>\n",
       "      <td>No internet service</td>\n",
       "      <td>No internet service</td>\n",
       "      <td>Two year</td>\n",
       "      <td>No</td>\n",
       "      <td>Credit card (automatic)</td>\n",
       "      <td>24.75</td>\n",
       "      <td>692.10</td>\n",
       "      <td>Yes</td>\n",
       "    </tr>\n",
       "    <tr>\n",
       "      <th>15</th>\n",
       "      <td>Male</td>\n",
       "      <td>0</td>\n",
       "      <td>Yes</td>\n",
       "      <td>No</td>\n",
       "      <td>67</td>\n",
       "      <td>Yes</td>\n",
       "      <td>Yes</td>\n",
       "      <td>Fiber optic</td>\n",
       "      <td>No</td>\n",
       "      <td>Yes</td>\n",
       "      <td>Yes</td>\n",
       "      <td>Yes</td>\n",
       "      <td>Yes</td>\n",
       "      <td>Yes</td>\n",
       "      <td>Two year</td>\n",
       "      <td>Yes</td>\n",
       "      <td>Bank transfer (automatic)</td>\n",
       "      <td>111.30</td>\n",
       "      <td>7567.20</td>\n",
       "      <td>No</td>\n",
       "    </tr>\n",
       "    <tr>\n",
       "      <th>16</th>\n",
       "      <td>Male</td>\n",
       "      <td>0</td>\n",
       "      <td>Yes</td>\n",
       "      <td>No</td>\n",
       "      <td>56</td>\n",
       "      <td>Yes</td>\n",
       "      <td>Yes</td>\n",
       "      <td>No</td>\n",
       "      <td>No internet service</td>\n",
       "      <td>No internet service</td>\n",
       "      <td>No internet service</td>\n",
       "      <td>No internet service</td>\n",
       "      <td>No internet service</td>\n",
       "      <td>No internet service</td>\n",
       "      <td>Two year</td>\n",
       "      <td>Yes</td>\n",
       "      <td>Credit card (automatic)</td>\n",
       "      <td>25.15</td>\n",
       "      <td>1327.15</td>\n",
       "      <td>Yes</td>\n",
       "    </tr>\n",
       "    <tr>\n",
       "      <th>17</th>\n",
       "      <td>Female</td>\n",
       "      <td>0</td>\n",
       "      <td>Yes</td>\n",
       "      <td>Yes</td>\n",
       "      <td>10</td>\n",
       "      <td>Yes</td>\n",
       "      <td>Yes</td>\n",
       "      <td>Fiber optic</td>\n",
       "      <td>No</td>\n",
       "      <td>Yes</td>\n",
       "      <td>Yes</td>\n",
       "      <td>No</td>\n",
       "      <td>Yes</td>\n",
       "      <td>Yes</td>\n",
       "      <td>Month-to-month</td>\n",
       "      <td>Yes</td>\n",
       "      <td>Credit card (automatic)</td>\n",
       "      <td>102.10</td>\n",
       "      <td>1068.85</td>\n",
       "      <td>Yes</td>\n",
       "    </tr>\n",
       "    <tr>\n",
       "      <th>18</th>\n",
       "      <td>Female</td>\n",
       "      <td>0</td>\n",
       "      <td>Yes</td>\n",
       "      <td>Yes</td>\n",
       "      <td>57</td>\n",
       "      <td>Yes</td>\n",
       "      <td>No</td>\n",
       "      <td>No</td>\n",
       "      <td>No internet service</td>\n",
       "      <td>No internet service</td>\n",
       "      <td>No internet service</td>\n",
       "      <td>No internet service</td>\n",
       "      <td>No internet service</td>\n",
       "      <td>No internet service</td>\n",
       "      <td>Two year</td>\n",
       "      <td>No</td>\n",
       "      <td>Bank transfer (automatic)</td>\n",
       "      <td>19.75</td>\n",
       "      <td>1272.05</td>\n",
       "      <td>No</td>\n",
       "    </tr>\n",
       "    <tr>\n",
       "      <th>19</th>\n",
       "      <td>Male</td>\n",
       "      <td>0</td>\n",
       "      <td>Yes</td>\n",
       "      <td>No</td>\n",
       "      <td>61</td>\n",
       "      <td>Yes</td>\n",
       "      <td>No</td>\n",
       "      <td>DSL</td>\n",
       "      <td>Yes</td>\n",
       "      <td>Yes</td>\n",
       "      <td>No</td>\n",
       "      <td>Yes</td>\n",
       "      <td>Yes</td>\n",
       "      <td>Yes</td>\n",
       "      <td>Two year</td>\n",
       "      <td>Yes</td>\n",
       "      <td>Mailed check</td>\n",
       "      <td>81.05</td>\n",
       "      <td>4747.65</td>\n",
       "      <td>No</td>\n",
       "    </tr>\n",
       "  </tbody>\n",
       "</table>\n",
       "</div>"
      ],
      "text/plain": [
       "    gender  SeniorCitizen Partner Dependents  tenure PhoneService  \\\n",
       "0     Male              0      No         No       1          Yes   \n",
       "1     Male              0      No         No      16          Yes   \n",
       "2   Female              0      No         No       1          Yes   \n",
       "3     Male              0      No         No       1           No   \n",
       "4     Male              1      No         No       1          Yes   \n",
       "5   Female              0     Yes        Yes       8          Yes   \n",
       "6     Male              1     Yes         No      27          Yes   \n",
       "7   Female              0      No         No       1          Yes   \n",
       "8   Female              0      No         No       4          Yes   \n",
       "9     Male              0     Yes         No      48          Yes   \n",
       "10    Male              0     Yes        Yes      38          Yes   \n",
       "11    Male              0     Yes        Yes      39          Yes   \n",
       "12  Female              0     Yes        Yes      23          Yes   \n",
       "13    Male              0     Yes         No      70          Yes   \n",
       "14  Female              0      No         No      25          Yes   \n",
       "15    Male              0     Yes         No      67          Yes   \n",
       "16    Male              0     Yes         No      56          Yes   \n",
       "17  Female              0     Yes        Yes      10          Yes   \n",
       "18  Female              0     Yes        Yes      57          Yes   \n",
       "19    Male              0     Yes         No      61          Yes   \n",
       "\n",
       "       MultipleLines InternetService       OnlineSecurity  \\\n",
       "0                 No              No  No internet service   \n",
       "1                 No              No  No internet service   \n",
       "2                 No              No  No internet service   \n",
       "3   No phone service             DSL                   No   \n",
       "4                Yes     Fiber optic                   No   \n",
       "5                Yes             DSL                   No   \n",
       "6                Yes     Fiber optic                  Yes   \n",
       "7                 No     Fiber optic                   No   \n",
       "8                 No              No  No internet service   \n",
       "9                Yes     Fiber optic                  Yes   \n",
       "10               Yes     Fiber optic                   No   \n",
       "11               Yes              No  No internet service   \n",
       "12                No     Fiber optic                   No   \n",
       "13               Yes              No  No internet service   \n",
       "14               Yes              No  No internet service   \n",
       "15               Yes     Fiber optic                   No   \n",
       "16               Yes              No  No internet service   \n",
       "17               Yes     Fiber optic                   No   \n",
       "18                No              No  No internet service   \n",
       "19                No             DSL                  Yes   \n",
       "\n",
       "           OnlineBackup     DeviceProtection          TechSupport  \\\n",
       "0   No internet service  No internet service  No internet service   \n",
       "1   No internet service  No internet service  No internet service   \n",
       "2   No internet service  No internet service  No internet service   \n",
       "3                    No                   No                   No   \n",
       "4                    No                   No                   No   \n",
       "5                   Yes                   No                   No   \n",
       "6                    No                  Yes                   No   \n",
       "7                    No                   No                   No   \n",
       "8   No internet service  No internet service  No internet service   \n",
       "9                   Yes                  Yes                   No   \n",
       "10                   No                  Yes                   No   \n",
       "11  No internet service  No internet service  No internet service   \n",
       "12                  Yes                  Yes                  Yes   \n",
       "13  No internet service  No internet service  No internet service   \n",
       "14  No internet service  No internet service  No internet service   \n",
       "15                  Yes                  Yes                  Yes   \n",
       "16  No internet service  No internet service  No internet service   \n",
       "17                  Yes                  Yes                   No   \n",
       "18  No internet service  No internet service  No internet service   \n",
       "19                  Yes                   No                  Yes   \n",
       "\n",
       "            StreamingTV      StreamingMovies        Contract PaperlessBilling  \\\n",
       "0   No internet service  No internet service  Month-to-month               No   \n",
       "1   No internet service  No internet service  Month-to-month              Yes   \n",
       "2   No internet service  No internet service  Month-to-month               No   \n",
       "3                    No                   No  Month-to-month              Yes   \n",
       "4                    No                   No  Month-to-month              Yes   \n",
       "5                    No                   No  Month-to-month               No   \n",
       "6                    No                   No        One year              Yes   \n",
       "7                    No                   No  Month-to-month              Yes   \n",
       "8   No internet service  No internet service  Month-to-month              Yes   \n",
       "9                   Yes                  Yes  Month-to-month              Yes   \n",
       "10                  Yes                  Yes  Month-to-month              Yes   \n",
       "11  No internet service  No internet service        Two year              Yes   \n",
       "12                   No                   No  Month-to-month               No   \n",
       "13  No internet service  No internet service        Two year               No   \n",
       "14  No internet service  No internet service        Two year               No   \n",
       "15                  Yes                  Yes        Two year              Yes   \n",
       "16  No internet service  No internet service        Two year              Yes   \n",
       "17                  Yes                  Yes  Month-to-month              Yes   \n",
       "18  No internet service  No internet service        Two year               No   \n",
       "19                  Yes                  Yes        Two year              Yes   \n",
       "\n",
       "                PaymentMethod  MonthlyCharges  TotalCharges Churn  \n",
       "0            Electronic check           20.65         20.65    No  \n",
       "1     Credit card (automatic)           20.60        330.25    No  \n",
       "2     Credit card (automatic)           19.80         19.80    No  \n",
       "3            Electronic check           24.25         24.25   Yes  \n",
       "4            Electronic check           74.40         74.40   Yes  \n",
       "5            Electronic check           55.75        446.80    No  \n",
       "6            Electronic check           85.90       2220.10    No  \n",
       "7            Electronic check           69.60         69.60   Yes  \n",
       "8     Credit card (automatic)           20.15         68.45    No  \n",
       "9   Bank transfer (automatic)          111.45       5315.10    No  \n",
       "10    Credit card (automatic)          101.15       3956.70    No  \n",
       "11               Mailed check           23.80        903.80    No  \n",
       "12           Electronic check           83.80       1900.25   Yes  \n",
       "13  Bank transfer (automatic)           25.15       1940.85    No  \n",
       "14    Credit card (automatic)           24.75        692.10   Yes  \n",
       "15  Bank transfer (automatic)          111.30       7567.20    No  \n",
       "16    Credit card (automatic)           25.15       1327.15   Yes  \n",
       "17    Credit card (automatic)          102.10       1068.85   Yes  \n",
       "18  Bank transfer (automatic)           19.75       1272.05    No  \n",
       "19               Mailed check           81.05       4747.65    No  "
      ]
     },
     "execution_count": 218,
     "metadata": {},
     "output_type": "execute_result"
    }
   ],
   "source": [
    "# Display Inference-Set\n",
    "\n",
    "data_inf"
   ]
  },
  {
   "cell_type": "code",
   "execution_count": 222,
   "metadata": {},
   "outputs": [
    {
     "name": "stdout",
     "output_type": "stream",
     "text": [
      "1/1 [==============================] - 1s 731ms/step\n"
     ]
    },
    {
     "data": {
      "text/html": [
       "<div>\n",
       "<style scoped>\n",
       "    .dataframe tbody tr th:only-of-type {\n",
       "        vertical-align: middle;\n",
       "    }\n",
       "\n",
       "    .dataframe tbody tr th {\n",
       "        vertical-align: top;\n",
       "    }\n",
       "\n",
       "    .dataframe thead th {\n",
       "        text-align: right;\n",
       "    }\n",
       "</style>\n",
       "<table border=\"1\" class=\"dataframe\">\n",
       "  <thead>\n",
       "    <tr style=\"text-align: right;\">\n",
       "      <th></th>\n",
       "      <th>gender</th>\n",
       "      <th>SeniorCitizen</th>\n",
       "      <th>Partner</th>\n",
       "      <th>Dependents</th>\n",
       "      <th>tenure</th>\n",
       "      <th>PhoneService</th>\n",
       "      <th>MultipleLines</th>\n",
       "      <th>InternetService</th>\n",
       "      <th>OnlineSecurity</th>\n",
       "      <th>OnlineBackup</th>\n",
       "      <th>...</th>\n",
       "      <th>TechSupport</th>\n",
       "      <th>StreamingTV</th>\n",
       "      <th>StreamingMovies</th>\n",
       "      <th>Contract</th>\n",
       "      <th>PaperlessBilling</th>\n",
       "      <th>PaymentMethod</th>\n",
       "      <th>MonthlyCharges</th>\n",
       "      <th>TotalCharges</th>\n",
       "      <th>Churn</th>\n",
       "      <th>Prediction</th>\n",
       "    </tr>\n",
       "  </thead>\n",
       "  <tbody>\n",
       "    <tr>\n",
       "      <th>0</th>\n",
       "      <td>Male</td>\n",
       "      <td>0</td>\n",
       "      <td>No</td>\n",
       "      <td>No</td>\n",
       "      <td>1</td>\n",
       "      <td>Yes</td>\n",
       "      <td>No</td>\n",
       "      <td>No</td>\n",
       "      <td>No internet service</td>\n",
       "      <td>No internet service</td>\n",
       "      <td>...</td>\n",
       "      <td>No internet service</td>\n",
       "      <td>No internet service</td>\n",
       "      <td>No internet service</td>\n",
       "      <td>Month-to-month</td>\n",
       "      <td>No</td>\n",
       "      <td>Electronic check</td>\n",
       "      <td>20.65</td>\n",
       "      <td>20.65</td>\n",
       "      <td>No</td>\n",
       "      <td>No</td>\n",
       "    </tr>\n",
       "    <tr>\n",
       "      <th>1</th>\n",
       "      <td>Male</td>\n",
       "      <td>0</td>\n",
       "      <td>No</td>\n",
       "      <td>No</td>\n",
       "      <td>16</td>\n",
       "      <td>Yes</td>\n",
       "      <td>No</td>\n",
       "      <td>No</td>\n",
       "      <td>No internet service</td>\n",
       "      <td>No internet service</td>\n",
       "      <td>...</td>\n",
       "      <td>No internet service</td>\n",
       "      <td>No internet service</td>\n",
       "      <td>No internet service</td>\n",
       "      <td>Month-to-month</td>\n",
       "      <td>Yes</td>\n",
       "      <td>Credit card (automatic)</td>\n",
       "      <td>20.60</td>\n",
       "      <td>330.25</td>\n",
       "      <td>No</td>\n",
       "      <td>No</td>\n",
       "    </tr>\n",
       "    <tr>\n",
       "      <th>2</th>\n",
       "      <td>Female</td>\n",
       "      <td>0</td>\n",
       "      <td>No</td>\n",
       "      <td>No</td>\n",
       "      <td>1</td>\n",
       "      <td>Yes</td>\n",
       "      <td>No</td>\n",
       "      <td>No</td>\n",
       "      <td>No internet service</td>\n",
       "      <td>No internet service</td>\n",
       "      <td>...</td>\n",
       "      <td>No internet service</td>\n",
       "      <td>No internet service</td>\n",
       "      <td>No internet service</td>\n",
       "      <td>Month-to-month</td>\n",
       "      <td>No</td>\n",
       "      <td>Credit card (automatic)</td>\n",
       "      <td>19.80</td>\n",
       "      <td>19.80</td>\n",
       "      <td>No</td>\n",
       "      <td>No</td>\n",
       "    </tr>\n",
       "    <tr>\n",
       "      <th>3</th>\n",
       "      <td>Male</td>\n",
       "      <td>0</td>\n",
       "      <td>No</td>\n",
       "      <td>No</td>\n",
       "      <td>1</td>\n",
       "      <td>No</td>\n",
       "      <td>No phone service</td>\n",
       "      <td>DSL</td>\n",
       "      <td>No</td>\n",
       "      <td>No</td>\n",
       "      <td>...</td>\n",
       "      <td>No</td>\n",
       "      <td>No</td>\n",
       "      <td>No</td>\n",
       "      <td>Month-to-month</td>\n",
       "      <td>Yes</td>\n",
       "      <td>Electronic check</td>\n",
       "      <td>24.25</td>\n",
       "      <td>24.25</td>\n",
       "      <td>Yes</td>\n",
       "      <td>Yes</td>\n",
       "    </tr>\n",
       "    <tr>\n",
       "      <th>4</th>\n",
       "      <td>Male</td>\n",
       "      <td>1</td>\n",
       "      <td>No</td>\n",
       "      <td>No</td>\n",
       "      <td>1</td>\n",
       "      <td>Yes</td>\n",
       "      <td>Yes</td>\n",
       "      <td>Fiber optic</td>\n",
       "      <td>No</td>\n",
       "      <td>No</td>\n",
       "      <td>...</td>\n",
       "      <td>No</td>\n",
       "      <td>No</td>\n",
       "      <td>No</td>\n",
       "      <td>Month-to-month</td>\n",
       "      <td>Yes</td>\n",
       "      <td>Electronic check</td>\n",
       "      <td>74.40</td>\n",
       "      <td>74.40</td>\n",
       "      <td>Yes</td>\n",
       "      <td>Yes</td>\n",
       "    </tr>\n",
       "    <tr>\n",
       "      <th>5</th>\n",
       "      <td>Female</td>\n",
       "      <td>0</td>\n",
       "      <td>Yes</td>\n",
       "      <td>Yes</td>\n",
       "      <td>8</td>\n",
       "      <td>Yes</td>\n",
       "      <td>Yes</td>\n",
       "      <td>DSL</td>\n",
       "      <td>No</td>\n",
       "      <td>Yes</td>\n",
       "      <td>...</td>\n",
       "      <td>No</td>\n",
       "      <td>No</td>\n",
       "      <td>No</td>\n",
       "      <td>Month-to-month</td>\n",
       "      <td>No</td>\n",
       "      <td>Electronic check</td>\n",
       "      <td>55.75</td>\n",
       "      <td>446.80</td>\n",
       "      <td>No</td>\n",
       "      <td>No</td>\n",
       "    </tr>\n",
       "    <tr>\n",
       "      <th>6</th>\n",
       "      <td>Male</td>\n",
       "      <td>1</td>\n",
       "      <td>Yes</td>\n",
       "      <td>No</td>\n",
       "      <td>27</td>\n",
       "      <td>Yes</td>\n",
       "      <td>Yes</td>\n",
       "      <td>Fiber optic</td>\n",
       "      <td>Yes</td>\n",
       "      <td>No</td>\n",
       "      <td>...</td>\n",
       "      <td>No</td>\n",
       "      <td>No</td>\n",
       "      <td>No</td>\n",
       "      <td>One year</td>\n",
       "      <td>Yes</td>\n",
       "      <td>Electronic check</td>\n",
       "      <td>85.90</td>\n",
       "      <td>2220.10</td>\n",
       "      <td>No</td>\n",
       "      <td>No</td>\n",
       "    </tr>\n",
       "    <tr>\n",
       "      <th>7</th>\n",
       "      <td>Female</td>\n",
       "      <td>0</td>\n",
       "      <td>No</td>\n",
       "      <td>No</td>\n",
       "      <td>1</td>\n",
       "      <td>Yes</td>\n",
       "      <td>No</td>\n",
       "      <td>Fiber optic</td>\n",
       "      <td>No</td>\n",
       "      <td>No</td>\n",
       "      <td>...</td>\n",
       "      <td>No</td>\n",
       "      <td>No</td>\n",
       "      <td>No</td>\n",
       "      <td>Month-to-month</td>\n",
       "      <td>Yes</td>\n",
       "      <td>Electronic check</td>\n",
       "      <td>69.60</td>\n",
       "      <td>69.60</td>\n",
       "      <td>Yes</td>\n",
       "      <td>Yes</td>\n",
       "    </tr>\n",
       "    <tr>\n",
       "      <th>8</th>\n",
       "      <td>Female</td>\n",
       "      <td>0</td>\n",
       "      <td>No</td>\n",
       "      <td>No</td>\n",
       "      <td>4</td>\n",
       "      <td>Yes</td>\n",
       "      <td>No</td>\n",
       "      <td>No</td>\n",
       "      <td>No internet service</td>\n",
       "      <td>No internet service</td>\n",
       "      <td>...</td>\n",
       "      <td>No internet service</td>\n",
       "      <td>No internet service</td>\n",
       "      <td>No internet service</td>\n",
       "      <td>Month-to-month</td>\n",
       "      <td>Yes</td>\n",
       "      <td>Credit card (automatic)</td>\n",
       "      <td>20.15</td>\n",
       "      <td>68.45</td>\n",
       "      <td>No</td>\n",
       "      <td>No</td>\n",
       "    </tr>\n",
       "    <tr>\n",
       "      <th>9</th>\n",
       "      <td>Male</td>\n",
       "      <td>0</td>\n",
       "      <td>Yes</td>\n",
       "      <td>No</td>\n",
       "      <td>48</td>\n",
       "      <td>Yes</td>\n",
       "      <td>Yes</td>\n",
       "      <td>Fiber optic</td>\n",
       "      <td>Yes</td>\n",
       "      <td>Yes</td>\n",
       "      <td>...</td>\n",
       "      <td>No</td>\n",
       "      <td>Yes</td>\n",
       "      <td>Yes</td>\n",
       "      <td>Month-to-month</td>\n",
       "      <td>Yes</td>\n",
       "      <td>Bank transfer (automatic)</td>\n",
       "      <td>111.45</td>\n",
       "      <td>5315.10</td>\n",
       "      <td>No</td>\n",
       "      <td>No</td>\n",
       "    </tr>\n",
       "    <tr>\n",
       "      <th>10</th>\n",
       "      <td>Male</td>\n",
       "      <td>0</td>\n",
       "      <td>Yes</td>\n",
       "      <td>Yes</td>\n",
       "      <td>38</td>\n",
       "      <td>Yes</td>\n",
       "      <td>Yes</td>\n",
       "      <td>Fiber optic</td>\n",
       "      <td>No</td>\n",
       "      <td>No</td>\n",
       "      <td>...</td>\n",
       "      <td>No</td>\n",
       "      <td>Yes</td>\n",
       "      <td>Yes</td>\n",
       "      <td>Month-to-month</td>\n",
       "      <td>Yes</td>\n",
       "      <td>Credit card (automatic)</td>\n",
       "      <td>101.15</td>\n",
       "      <td>3956.70</td>\n",
       "      <td>No</td>\n",
       "      <td>No</td>\n",
       "    </tr>\n",
       "    <tr>\n",
       "      <th>11</th>\n",
       "      <td>Male</td>\n",
       "      <td>0</td>\n",
       "      <td>Yes</td>\n",
       "      <td>Yes</td>\n",
       "      <td>39</td>\n",
       "      <td>Yes</td>\n",
       "      <td>Yes</td>\n",
       "      <td>No</td>\n",
       "      <td>No internet service</td>\n",
       "      <td>No internet service</td>\n",
       "      <td>...</td>\n",
       "      <td>No internet service</td>\n",
       "      <td>No internet service</td>\n",
       "      <td>No internet service</td>\n",
       "      <td>Two year</td>\n",
       "      <td>Yes</td>\n",
       "      <td>Mailed check</td>\n",
       "      <td>23.80</td>\n",
       "      <td>903.80</td>\n",
       "      <td>No</td>\n",
       "      <td>No</td>\n",
       "    </tr>\n",
       "    <tr>\n",
       "      <th>12</th>\n",
       "      <td>Female</td>\n",
       "      <td>0</td>\n",
       "      <td>Yes</td>\n",
       "      <td>Yes</td>\n",
       "      <td>23</td>\n",
       "      <td>Yes</td>\n",
       "      <td>No</td>\n",
       "      <td>Fiber optic</td>\n",
       "      <td>No</td>\n",
       "      <td>Yes</td>\n",
       "      <td>...</td>\n",
       "      <td>Yes</td>\n",
       "      <td>No</td>\n",
       "      <td>No</td>\n",
       "      <td>Month-to-month</td>\n",
       "      <td>No</td>\n",
       "      <td>Electronic check</td>\n",
       "      <td>83.80</td>\n",
       "      <td>1900.25</td>\n",
       "      <td>Yes</td>\n",
       "      <td>No</td>\n",
       "    </tr>\n",
       "    <tr>\n",
       "      <th>13</th>\n",
       "      <td>Male</td>\n",
       "      <td>0</td>\n",
       "      <td>Yes</td>\n",
       "      <td>No</td>\n",
       "      <td>70</td>\n",
       "      <td>Yes</td>\n",
       "      <td>Yes</td>\n",
       "      <td>No</td>\n",
       "      <td>No internet service</td>\n",
       "      <td>No internet service</td>\n",
       "      <td>...</td>\n",
       "      <td>No internet service</td>\n",
       "      <td>No internet service</td>\n",
       "      <td>No internet service</td>\n",
       "      <td>Two year</td>\n",
       "      <td>No</td>\n",
       "      <td>Bank transfer (automatic)</td>\n",
       "      <td>25.15</td>\n",
       "      <td>1940.85</td>\n",
       "      <td>No</td>\n",
       "      <td>No</td>\n",
       "    </tr>\n",
       "    <tr>\n",
       "      <th>14</th>\n",
       "      <td>Female</td>\n",
       "      <td>0</td>\n",
       "      <td>No</td>\n",
       "      <td>No</td>\n",
       "      <td>25</td>\n",
       "      <td>Yes</td>\n",
       "      <td>Yes</td>\n",
       "      <td>No</td>\n",
       "      <td>No internet service</td>\n",
       "      <td>No internet service</td>\n",
       "      <td>...</td>\n",
       "      <td>No internet service</td>\n",
       "      <td>No internet service</td>\n",
       "      <td>No internet service</td>\n",
       "      <td>Two year</td>\n",
       "      <td>No</td>\n",
       "      <td>Credit card (automatic)</td>\n",
       "      <td>24.75</td>\n",
       "      <td>692.10</td>\n",
       "      <td>Yes</td>\n",
       "      <td>No</td>\n",
       "    </tr>\n",
       "    <tr>\n",
       "      <th>15</th>\n",
       "      <td>Male</td>\n",
       "      <td>0</td>\n",
       "      <td>Yes</td>\n",
       "      <td>No</td>\n",
       "      <td>67</td>\n",
       "      <td>Yes</td>\n",
       "      <td>Yes</td>\n",
       "      <td>Fiber optic</td>\n",
       "      <td>No</td>\n",
       "      <td>Yes</td>\n",
       "      <td>...</td>\n",
       "      <td>Yes</td>\n",
       "      <td>Yes</td>\n",
       "      <td>Yes</td>\n",
       "      <td>Two year</td>\n",
       "      <td>Yes</td>\n",
       "      <td>Bank transfer (automatic)</td>\n",
       "      <td>111.30</td>\n",
       "      <td>7567.20</td>\n",
       "      <td>No</td>\n",
       "      <td>No</td>\n",
       "    </tr>\n",
       "    <tr>\n",
       "      <th>16</th>\n",
       "      <td>Male</td>\n",
       "      <td>0</td>\n",
       "      <td>Yes</td>\n",
       "      <td>No</td>\n",
       "      <td>56</td>\n",
       "      <td>Yes</td>\n",
       "      <td>Yes</td>\n",
       "      <td>No</td>\n",
       "      <td>No internet service</td>\n",
       "      <td>No internet service</td>\n",
       "      <td>...</td>\n",
       "      <td>No internet service</td>\n",
       "      <td>No internet service</td>\n",
       "      <td>No internet service</td>\n",
       "      <td>Two year</td>\n",
       "      <td>Yes</td>\n",
       "      <td>Credit card (automatic)</td>\n",
       "      <td>25.15</td>\n",
       "      <td>1327.15</td>\n",
       "      <td>Yes</td>\n",
       "      <td>No</td>\n",
       "    </tr>\n",
       "    <tr>\n",
       "      <th>17</th>\n",
       "      <td>Female</td>\n",
       "      <td>0</td>\n",
       "      <td>Yes</td>\n",
       "      <td>Yes</td>\n",
       "      <td>10</td>\n",
       "      <td>Yes</td>\n",
       "      <td>Yes</td>\n",
       "      <td>Fiber optic</td>\n",
       "      <td>No</td>\n",
       "      <td>Yes</td>\n",
       "      <td>...</td>\n",
       "      <td>No</td>\n",
       "      <td>Yes</td>\n",
       "      <td>Yes</td>\n",
       "      <td>Month-to-month</td>\n",
       "      <td>Yes</td>\n",
       "      <td>Credit card (automatic)</td>\n",
       "      <td>102.10</td>\n",
       "      <td>1068.85</td>\n",
       "      <td>Yes</td>\n",
       "      <td>No</td>\n",
       "    </tr>\n",
       "    <tr>\n",
       "      <th>18</th>\n",
       "      <td>Female</td>\n",
       "      <td>0</td>\n",
       "      <td>Yes</td>\n",
       "      <td>Yes</td>\n",
       "      <td>57</td>\n",
       "      <td>Yes</td>\n",
       "      <td>No</td>\n",
       "      <td>No</td>\n",
       "      <td>No internet service</td>\n",
       "      <td>No internet service</td>\n",
       "      <td>...</td>\n",
       "      <td>No internet service</td>\n",
       "      <td>No internet service</td>\n",
       "      <td>No internet service</td>\n",
       "      <td>Two year</td>\n",
       "      <td>No</td>\n",
       "      <td>Bank transfer (automatic)</td>\n",
       "      <td>19.75</td>\n",
       "      <td>1272.05</td>\n",
       "      <td>No</td>\n",
       "      <td>No</td>\n",
       "    </tr>\n",
       "    <tr>\n",
       "      <th>19</th>\n",
       "      <td>Male</td>\n",
       "      <td>0</td>\n",
       "      <td>Yes</td>\n",
       "      <td>No</td>\n",
       "      <td>61</td>\n",
       "      <td>Yes</td>\n",
       "      <td>No</td>\n",
       "      <td>DSL</td>\n",
       "      <td>Yes</td>\n",
       "      <td>Yes</td>\n",
       "      <td>...</td>\n",
       "      <td>Yes</td>\n",
       "      <td>Yes</td>\n",
       "      <td>Yes</td>\n",
       "      <td>Two year</td>\n",
       "      <td>Yes</td>\n",
       "      <td>Mailed check</td>\n",
       "      <td>81.05</td>\n",
       "      <td>4747.65</td>\n",
       "      <td>No</td>\n",
       "      <td>No</td>\n",
       "    </tr>\n",
       "  </tbody>\n",
       "</table>\n",
       "<p>20 rows × 21 columns</p>\n",
       "</div>"
      ],
      "text/plain": [
       "    gender  SeniorCitizen Partner Dependents  tenure PhoneService  \\\n",
       "0     Male              0      No         No       1          Yes   \n",
       "1     Male              0      No         No      16          Yes   \n",
       "2   Female              0      No         No       1          Yes   \n",
       "3     Male              0      No         No       1           No   \n",
       "4     Male              1      No         No       1          Yes   \n",
       "5   Female              0     Yes        Yes       8          Yes   \n",
       "6     Male              1     Yes         No      27          Yes   \n",
       "7   Female              0      No         No       1          Yes   \n",
       "8   Female              0      No         No       4          Yes   \n",
       "9     Male              0     Yes         No      48          Yes   \n",
       "10    Male              0     Yes        Yes      38          Yes   \n",
       "11    Male              0     Yes        Yes      39          Yes   \n",
       "12  Female              0     Yes        Yes      23          Yes   \n",
       "13    Male              0     Yes         No      70          Yes   \n",
       "14  Female              0      No         No      25          Yes   \n",
       "15    Male              0     Yes         No      67          Yes   \n",
       "16    Male              0     Yes         No      56          Yes   \n",
       "17  Female              0     Yes        Yes      10          Yes   \n",
       "18  Female              0     Yes        Yes      57          Yes   \n",
       "19    Male              0     Yes         No      61          Yes   \n",
       "\n",
       "       MultipleLines InternetService       OnlineSecurity  \\\n",
       "0                 No              No  No internet service   \n",
       "1                 No              No  No internet service   \n",
       "2                 No              No  No internet service   \n",
       "3   No phone service             DSL                   No   \n",
       "4                Yes     Fiber optic                   No   \n",
       "5                Yes             DSL                   No   \n",
       "6                Yes     Fiber optic                  Yes   \n",
       "7                 No     Fiber optic                   No   \n",
       "8                 No              No  No internet service   \n",
       "9                Yes     Fiber optic                  Yes   \n",
       "10               Yes     Fiber optic                   No   \n",
       "11               Yes              No  No internet service   \n",
       "12                No     Fiber optic                   No   \n",
       "13               Yes              No  No internet service   \n",
       "14               Yes              No  No internet service   \n",
       "15               Yes     Fiber optic                   No   \n",
       "16               Yes              No  No internet service   \n",
       "17               Yes     Fiber optic                   No   \n",
       "18                No              No  No internet service   \n",
       "19                No             DSL                  Yes   \n",
       "\n",
       "           OnlineBackup  ...          TechSupport          StreamingTV  \\\n",
       "0   No internet service  ...  No internet service  No internet service   \n",
       "1   No internet service  ...  No internet service  No internet service   \n",
       "2   No internet service  ...  No internet service  No internet service   \n",
       "3                    No  ...                   No                   No   \n",
       "4                    No  ...                   No                   No   \n",
       "5                   Yes  ...                   No                   No   \n",
       "6                    No  ...                   No                   No   \n",
       "7                    No  ...                   No                   No   \n",
       "8   No internet service  ...  No internet service  No internet service   \n",
       "9                   Yes  ...                   No                  Yes   \n",
       "10                   No  ...                   No                  Yes   \n",
       "11  No internet service  ...  No internet service  No internet service   \n",
       "12                  Yes  ...                  Yes                   No   \n",
       "13  No internet service  ...  No internet service  No internet service   \n",
       "14  No internet service  ...  No internet service  No internet service   \n",
       "15                  Yes  ...                  Yes                  Yes   \n",
       "16  No internet service  ...  No internet service  No internet service   \n",
       "17                  Yes  ...                   No                  Yes   \n",
       "18  No internet service  ...  No internet service  No internet service   \n",
       "19                  Yes  ...                  Yes                  Yes   \n",
       "\n",
       "        StreamingMovies        Contract PaperlessBilling  \\\n",
       "0   No internet service  Month-to-month               No   \n",
       "1   No internet service  Month-to-month              Yes   \n",
       "2   No internet service  Month-to-month               No   \n",
       "3                    No  Month-to-month              Yes   \n",
       "4                    No  Month-to-month              Yes   \n",
       "5                    No  Month-to-month               No   \n",
       "6                    No        One year              Yes   \n",
       "7                    No  Month-to-month              Yes   \n",
       "8   No internet service  Month-to-month              Yes   \n",
       "9                   Yes  Month-to-month              Yes   \n",
       "10                  Yes  Month-to-month              Yes   \n",
       "11  No internet service        Two year              Yes   \n",
       "12                   No  Month-to-month               No   \n",
       "13  No internet service        Two year               No   \n",
       "14  No internet service        Two year               No   \n",
       "15                  Yes        Two year              Yes   \n",
       "16  No internet service        Two year              Yes   \n",
       "17                  Yes  Month-to-month              Yes   \n",
       "18  No internet service        Two year               No   \n",
       "19                  Yes        Two year              Yes   \n",
       "\n",
       "                PaymentMethod MonthlyCharges  TotalCharges  Churn Prediction  \n",
       "0            Electronic check          20.65         20.65     No         No  \n",
       "1     Credit card (automatic)          20.60        330.25     No         No  \n",
       "2     Credit card (automatic)          19.80         19.80     No         No  \n",
       "3            Electronic check          24.25         24.25    Yes        Yes  \n",
       "4            Electronic check          74.40         74.40    Yes        Yes  \n",
       "5            Electronic check          55.75        446.80     No         No  \n",
       "6            Electronic check          85.90       2220.10     No         No  \n",
       "7            Electronic check          69.60         69.60    Yes        Yes  \n",
       "8     Credit card (automatic)          20.15         68.45     No         No  \n",
       "9   Bank transfer (automatic)         111.45       5315.10     No         No  \n",
       "10    Credit card (automatic)         101.15       3956.70     No         No  \n",
       "11               Mailed check          23.80        903.80     No         No  \n",
       "12           Electronic check          83.80       1900.25    Yes         No  \n",
       "13  Bank transfer (automatic)          25.15       1940.85     No         No  \n",
       "14    Credit card (automatic)          24.75        692.10    Yes         No  \n",
       "15  Bank transfer (automatic)         111.30       7567.20     No         No  \n",
       "16    Credit card (automatic)          25.15       1327.15    Yes         No  \n",
       "17    Credit card (automatic)         102.10       1068.85    Yes         No  \n",
       "18  Bank transfer (automatic)          19.75       1272.05     No         No  \n",
       "19               Mailed check          81.05       4747.65     No         No  \n",
       "\n",
       "[20 rows x 21 columns]"
      ]
     },
     "execution_count": 222,
     "metadata": {},
     "output_type": "execute_result"
    }
   ],
   "source": [
    "# Feature select\n",
    "data_inf_final = data_inf[['gender', 'SeniorCitizen', 'Partner', 'Dependents', 'tenure',\n",
    "       'MultipleLines', 'InternetService', 'OnlineSecurity', 'OnlineBackup', \n",
    "       'DeviceProtection', 'TechSupport', 'StreamingTV', 'StreamingMovies', \n",
    "       'Contract', 'PaperlessBilling', 'PaymentMethod', 'MonthlyCharges']]\n",
    " \n",
    "# Scale & encode\n",
    "data_inf_sne = scale_n_encode.transform(data_inf_final)\n",
    "\n",
    "# Loading model\n",
    "model_ = keras.models.load_model(\"my_keras_model.h5\")\n",
    "\n",
    "# Predicting\n",
    "y_pred_inf = model_.predict(data_inf_sne)\n",
    "y_pred_inf = np.where(y_pred_inf > 0.5, 'Yes', 'No')\n",
    "\n",
    "# Concate between Inference-Set and Prediction\n",
    "data_inf_finaldf = pd.concat([data_inf, pd.DataFrame(y_pred_inf, columns=['Prediction'])], axis=1)\n",
    "data_inf_finaldf"
   ]
  },
  {
   "cell_type": "markdown",
   "metadata": {},
   "source": [
    "# 11. Conclusion"
   ]
  },
  {
   "cell_type": "markdown",
   "metadata": {},
   "source": [
    "Untuk mini-research project kali ini, dataset yang digunakan adalah `Telco-Customer-Churn Dataset`. Dimana, dalam project ini kita membuat model yang bisa meng-*classify* nasabah **stay** (`churn` = `no`) atau **leave** (`churn` = `yes`).\n",
    "\n",
    "\n",
    "\n",
    "| Problem Statement | Solution | Goal |\n",
    "| --- | --- | --- |\n",
    "| Membangun model yang tepat untuk \"*churn case*\" ini | Menggunakan **ANN** untuk building the model | Menghasilkan model terbaik untuk digunakan sebagai prediktor. Selecting model dengan komparasi \"`base model`\" dan \"`improved model`\" |\n",
    "\n",
    "\n",
    "\n",
    "Sumber dataset : [Kaggle](https://www.kaggle.com/datasets/blastchar/telco-customer-churn)\n",
    "\n",
    "Dataset ini memiliki 7043 kolom dan 20 baris dengan varian tipe data float, integer dan object. Tidak terdapat missing values di setiap kolomnya. Namun terdapat variabel yang tipe datanya tidak sesuai, sehingga dilakukan pengubahan tipe data (dari object menjadi float).\n",
    "\n",
    "Banyak fakta-fakta menarik yang kami peroleh saat mengeksplorasi dataset ini diantaranya :\n",
    "- Terdapat imbalance data di variabel target, dengan rasio 7 banding 3\n",
    "- Fitur PaymentMethod adalah fitur kategorik dengan varian value terbanyak.\n",
    "- Rasio tiap class di variabel gender dan Partner hampir memiliki proporsi yang sama.\n",
    "- Ada perbedaan jumlah yang signifikan untuk tiap class di variabel PhoneService, Dependents, PhoneService, dan MultipleLines\n",
    "- Banyak kontrak tipe Month-to-month daripada kontrak One year dan Two year\n",
    "- Lebih banyak PaymentMethod yang dilakukan melalui Electronic check\n",
    "- Sebagian besar customer berlangganan home phone services dan sangat kecil proporsinya yang tidak berlangganan maka bisa dipastikan variabel `PhoneService` ini tidak memberikan dampak yang signifikan di modelling nanti.\n",
    "- Semua variabel numerikal kelihatannya terdistribusi skew (yang selanjutnya nilai skewness masing-masing variabel dihitung di preprocessing section untuk ditentukan variabelnya di aproksimasi terdistribusi normal atau tidak)\n",
    "- Semakin besar tenure semakin besar kemungkinan customer stay (churn = no).\n",
    "- Semakin kecil MonthlyCharges semakin besar kemungkinan customer untuk stay (churn = no)\n",
    "- Ada beberapa variabel numerikal yang sangat berkorelasi tinggi dengan variabel lain (based on heatmap correlation)\n",
    "\n",
    "Setelah itu dilakukan preprocessing dataset berdasarkan temuan eksplorasi di atas kemudian memilih fitur-fitur penting (important features) untuk modelling. \n",
    "\n",
    "Untuk project kali ini digunakan functional model ANN yang telah di improve untuk pemodelan data inference, karena dibandingkan dengan 3 model lainnya, improved model ini memberikan nilai accuracy yang relative stable. Meskipun base model sequential dan functionalnya memberikan nilai accuracy yang lebih tinggi di train set, namun terindikasi **overfitting** karena selisih accuracy train dan test set nya hampir mencapai 10%. Sedangkan improved fuctional model memberikan accuracy sekitar 78% baik di train maupun di test set.\n",
    "\n",
    "Pemilihan model terbaik berdasarkan metrik `accuracy` ini sebenarnya memiliki kelemahan, karena tidak cukup baik mewakili performansi model untuk dataset yang imbalance. Sehingga untuk perbaikan kedepannya bisa dilakukan best model selection berdasarkan `f1-score` untuk data imbalance. \n",
    "\n",
    "Future improvement lainnya yaitu :\n",
    "- Lakukan parameter tuning model yang lebih kompleks\n",
    "- Studi yang lebih detail tentang parameter yang tepat untuk digunakan tiap case (`optimizer`, `initializer`, `regularizer`, banyak neurons optimal tiap layers, dsb)\n",
    "- Optimasi processing time yang paling tepat dengan memaksimalisasi `shuffle buffer size`, `prefecthing`, `Normalizing` dan sebagainya.\n",
    "\n",
    "\n",
    "\n"
   ]
  },
  {
   "cell_type": "markdown",
   "metadata": {},
   "source": [
    "General References:\n",
    "- https://machinelearningmastery.com/how-to-stop-training-deep-neural-networks-at-the-right-time-using-early-stopping/\n",
    "- https://www.analyticsvidhya.com/blog/2020/01/fundamentals-deep-learning-activation-functions-when-to-use-them/\n",
    "- https://jurnal.polibatam.ac.id/index.php/JAIC/article/download/2017/1118\n",
    "- https://www.tensorflow.org/guide/data\n",
    "- https://www.kode.id \n",
    "\n",
    "Kaggle:\n",
    "- https://www.kaggle.com/code/hyejinjeon/telecome-churn-analysis\n",
    "- https://www.kaggle.com/code/michalbrezk/classification-tensorflow-deep-nn-xgboost\n",
    "- https://www.kaggle.com/code/ekami66/detailed-exploratory-data-analysis-with-python\n",
    "- https://www.kaggle.com/code/sardiirfansyah/tensorflow-input-pipeline-prefetch-tf-data\n",
    "- https://www.kaggle.com/code/lusfernandotorres/exploratory-data-analysis-and-churn-prediction"
   ]
  }
 ],
 "metadata": {
  "kernelspec": {
   "display_name": "Python 3.9.12",
   "language": "python",
   "name": "python3"
  },
  "language_info": {
   "codemirror_mode": {
    "name": "ipython",
    "version": 3
   },
   "file_extension": ".py",
   "mimetype": "text/x-python",
   "name": "python",
   "nbconvert_exporter": "python",
   "pygments_lexer": "ipython3",
   "version": "3.9.12"
  },
  "orig_nbformat": 4,
  "vscode": {
   "interpreter": {
    "hash": "5747b9065b151de92c4aa2cd98088d5652819cf8ec87bb936e665f94e52b8803"
   }
  }
 },
 "nbformat": 4,
 "nbformat_minor": 2
}
